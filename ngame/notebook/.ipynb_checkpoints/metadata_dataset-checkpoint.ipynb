{
 "cells": [
  {
   "cell_type": "code",
   "execution_count": 66,
   "id": "0ba6b4c9",
   "metadata": {},
   "outputs": [],
   "source": [
    "import numpy as np\n",
    "import pandas as pd\n",
    "from tqdm.auto import tqdm\n",
    "\n",
    "import xclib.data.data_utils as du\n",
    "from scipy.sparse import csr_matrix\n",
    "from scipy.sparse import coo_matrix\n",
    "from IPython.display import display\n",
    "from timeit import default_timer as timer\n",
    "import xclib.evaluation.xc_metrics as xc_metrics"
   ]
  },
  {
   "cell_type": "markdown",
   "id": "5347df8d",
   "metadata": {},
   "source": [
    "# Code"
   ]
  },
  {
   "cell_type": "code",
   "execution_count": 67,
   "id": "a933eb1d",
   "metadata": {
    "code_folding": []
   },
   "outputs": [],
   "source": [
    "def read_map(filename):\n",
    "    text = []\n",
    "    with open(filename) as file:\n",
    "        for line in file:\n",
    "            text.append(line[:-1])\n",
    "    return text\n"
   ]
  },
  {
   "cell_type": "code",
   "execution_count": 68,
   "id": "dd7ee5fb",
   "metadata": {
    "code_folding": []
   },
   "outputs": [],
   "source": [
    "def read_XC_data(data_dir, meta_tag=\"\"):\n",
    "    data_tag = f\"{meta_tag}_\" if meta_tag else meta_tag\n",
    "    trn_xy = du.read_sparse_file(f\"{data_dir}/{data_tag}trn_X_Y.txt\")\n",
    "    tst_xy = du.read_sparse_file(f\"{data_dir}/{data_tag}tst_X_Y.txt\")\n",
    "    \n",
    "    trn_map = read_map(f\"{data_dir}/raw_data/train.raw.txt\")\n",
    "    tst_map = read_map(f\"{data_dir}/raw_data/test.raw.txt\")\n",
    "    lbl_map = read_map(f\"{data_dir}/raw_data/label.raw.txt\")\n",
    "        \n",
    "    if meta_tag:\n",
    "        lbl_xy = du.read_sparse_file(f\"{data_dir}/{data_tag}lbl_X_Y.txt\")\n",
    "        meta_map = read_map(f\"{data_dir}/raw_data/{meta_tag}.raw.txt\")\n",
    "        return (trn_xy, tst_xy, lbl_xy), (trn_map, tst_map, lbl_map, meta_map)\n",
    "    return (trn_xy, tst_xy), (trn_map, tst_map, lbl_map)\n"
   ]
  },
  {
   "cell_type": "markdown",
   "id": "4521aaca",
   "metadata": {},
   "source": [
    "# Load"
   ]
  },
  {
   "cell_type": "code",
   "execution_count": 69,
   "id": "c5a568e6",
   "metadata": {},
   "outputs": [
    {
     "name": "stderr",
     "output_type": "stream",
     "text": [
      "/home/scai/phd/aiz218323/.local/lib/python3.7/site-packages/xclib-0.97-py3.7-linux-x86_64.egg/xclib/data/data_utils.py:263: UserWarning: Header mis-match from inferred shape!\n",
      "  warnings.warn(\"Header mis-match from inferred shape!\")\n"
     ]
    }
   ],
   "source": [
    "data_dir = \"/home/scai/phd/aiz218323/tmp/XC/data/G-LF-WikiSeeAlsoTitles-300K/\"\n",
    "xy_data, xy_maps = read_XC_data(data_dir, meta_tag=\"category\")"
   ]
  },
  {
   "cell_type": "code",
   "execution_count": 70,
   "id": "70f76de1",
   "metadata": {},
   "outputs": [],
   "source": [
    "def purge_data(xy_data, xy_map):\n",
    "    valid_idx = np.where(xy_data.getnnz(axis=1) > 0)[0].tolist()\n",
    "    valid_data = xy_data[valid_idx]\n",
    "    valid_map = np.array(xy_map)[valid_idx].tolist()\n",
    "    \n",
    "    return valid_idx, valid_data, valid_map\n"
   ]
  },
  {
   "cell_type": "code",
   "execution_count": 71,
   "id": "a74387c0",
   "metadata": {},
   "outputs": [],
   "source": [
    "correct_idx, correct_data, correct_map = [], [], []\n",
    "\n",
    "for data, text in zip(xy_data, xy_maps[:-1]):\n",
    "    valid_idx, valid_data, valid_map = purge_data(data, text)\n",
    "    correct_idx.append(valid_idx)\n",
    "    correct_data.append(valid_data)\n",
    "    correct_map.append(valid_map)\n",
    "    "
   ]
  },
  {
   "cell_type": "markdown",
   "id": "6a1b8c1f",
   "metadata": {},
   "source": [
    "# Save"
   ]
  },
  {
   "cell_type": "code",
   "execution_count": 72,
   "id": "33702984",
   "metadata": {},
   "outputs": [],
   "source": [
    "import os\n",
    "from scipy.sparse import vstack"
   ]
  },
  {
   "cell_type": "code",
   "execution_count": 91,
   "id": "36f0ea4a",
   "metadata": {
    "code_folding": [
     0
    ]
   },
   "outputs": [],
   "source": [
    "def purge_invalid_labels(trn_xy, tst_xy, label_map):\n",
    "    valid_lbl_idx = np.where(trn_xy.getnnz(axis=0) > 0)[0]\n",
    "\n",
    "    trn_X_Y = trn_xy[:, valid_lbl_idx]\n",
    "    tst_X_Y = tst_xy[:, valid_lbl_idx]\n",
    "    label_raw = np.array(label_map)[valid_lbl_idx]\n",
    "    \n",
    "    return trn_X_Y, tst_X_Y, label_raw\n"
   ]
  },
  {
   "cell_type": "code",
   "execution_count": 73,
   "id": "5fceb110",
   "metadata": {},
   "outputs": [],
   "source": [
    "save_dir = \"/home/scai/phd/aiz218323/tmp/XC/data/LF-WikiTitles-700K/\""
   ]
  },
  {
   "cell_type": "code",
   "execution_count": 74,
   "id": "0af6a24d",
   "metadata": {},
   "outputs": [],
   "source": [
    "os.makedirs(save_dir, exist_ok=True)\n",
    "os.makedirs(f\"{save_dir}/raw_data\", exist_ok=True)"
   ]
  },
  {
   "cell_type": "code",
   "execution_count": 90,
   "id": "7b770bbe",
   "metadata": {},
   "outputs": [],
   "source": [
    "trn_xy = vstack([correct_data[0], correct_data[2]])\n",
    "tst_xy = correct_data[1]\n",
    "\n",
    "train_raw = correct_map[0] + correct_map[2]\n",
    "test_raw = correct_map[1]"
   ]
  },
  {
   "cell_type": "code",
   "execution_count": 92,
   "id": "4336a946",
   "metadata": {},
   "outputs": [],
   "source": [
    "trn_X_Y, tst_X_Y, label_raw = purge_invalid_labels(trn_xy, tst_xy, xy_maps[-1])"
   ]
  },
  {
   "cell_type": "code",
   "execution_count": 95,
   "id": "3bb1c2e5",
   "metadata": {},
   "outputs": [],
   "source": [
    "is_label = [False]*len(correct_idx[0]) + [True]*len(correct_idx[2])\n",
    "train_idx = pd.DataFrame({\"index\": correct_idx[0] + correct_idx[2],\n",
    "                          \"is_label\": is_label})\n",
    "\n",
    "is_label = [False]*len(correct_idx[1])\n",
    "test_idx = pd.DataFrame({\"index\": correct_idx[1],\n",
    "                        \"is_label\": is_label})"
   ]
  },
  {
   "cell_type": "code",
   "execution_count": 98,
   "id": "bccb2afc",
   "metadata": {},
   "outputs": [],
   "source": [
    "def write_map(texts, filename):\n",
    "    with open(filename, 'w') as file:\n",
    "        for text in texts:\n",
    "            file.write(f\"{text}\\n\")\n",
    "            "
   ]
  },
  {
   "cell_type": "code",
   "execution_count": 99,
   "id": "1ea0a103",
   "metadata": {},
   "outputs": [],
   "source": [
    "du.write_sparse_file(trn_X_Y, f\"{save_dir}/trn_X_Y.txt\")\n",
    "du.write_sparse_file(tst_X_Y, f\"{save_dir}/tst_X_Y.txt\")\n",
    "\n",
    "write_map(train_raw, f\"{save_dir}/raw_data/train.raw.txt\")\n",
    "write_map(test_raw, f\"{save_dir}/raw_data/test.raw.txt\")\n",
    "write_map(label_raw, f\"{save_dir}/raw_data/label.raw.txt\")\n",
    "\n",
    "train_idx.to_csv(f\"{save_dir}/train.idx.csv\")\n",
    "test_idx.to_csv(f\"{save_dir}/test.idx.csv\")"
   ]
  },
  {
   "cell_type": "code",
   "execution_count": null,
   "id": "418596a9",
   "metadata": {},
   "outputs": [],
   "source": []
  }
 ],
 "metadata": {
  "kernelspec": {
   "display_name": "Python 3 (ipykernel)",
   "language": "python",
   "name": "python3"
  },
  "language_info": {
   "codemirror_mode": {
    "name": "ipython",
    "version": 3
   },
   "file_extension": ".py",
   "mimetype": "text/x-python",
   "name": "python",
   "nbconvert_exporter": "python",
   "pygments_lexer": "ipython3",
   "version": "3.7.1"
  },
  "toc": {
   "base_numbering": 1,
   "nav_menu": {},
   "number_sections": true,
   "sideBar": true,
   "skip_h1_title": false,
   "title_cell": "Table of Contents",
   "title_sidebar": "Contents",
   "toc_cell": false,
   "toc_position": {},
   "toc_section_display": true,
   "toc_window_display": false
  }
 },
 "nbformat": 4,
 "nbformat_minor": 5
}
