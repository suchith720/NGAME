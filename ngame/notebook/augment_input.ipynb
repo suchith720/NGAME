{
 "cells": [
  {
   "cell_type": "code",
   "execution_count": 1,
   "id": "5da34519",
   "metadata": {},
   "outputs": [],
   "source": [
    "import numpy as np\n",
    "import pandas as pd\n",
    "from tqdm.auto import tqdm\n",
    "\n",
    "import xclib.data.data_utils as du\n",
    "from scipy.sparse import csr_matrix\n",
    "from scipy.sparse import coo_matrix\n",
    "from IPython.display import display\n",
    "from timeit import default_timer as timer\n",
    "import xclib.evaluation.xc_metrics as xc_metrics"
   ]
  },
  {
   "cell_type": "markdown",
   "id": "6d1db116",
   "metadata": {},
   "source": [
    "# Code"
   ]
  },
  {
   "cell_type": "code",
   "execution_count": 2,
   "id": "6c5ee7e3",
   "metadata": {
    "code_folding": [
     0,
     7
    ]
   },
   "outputs": [],
   "source": [
    "def read_id(filename, rm_suffix_idx=None):\n",
    "    text = []\n",
    "    with open(filename) as file:\n",
    "        for line in file:\n",
    "            text.append(line[:-1].split('->', maxsplit=1)[0][:rm_suffix_idx])\n",
    "    return text\n",
    "\n",
    "def read_ids(data_dir, rm_suffix_idx=None, meta_tag=\"\"):\n",
    "    trn_id = read_id(f\"{data_dir}/raw_data/train.raw.txt\", rm_suffix_idx)\n",
    "    tst_id = read_id(f\"{data_dir}/raw_data/test.raw.txt\", rm_suffix_idx)\n",
    "    lbl_id = read_id(f\"{data_dir}/raw_data/label.raw.txt\", rm_suffix_idx)\n",
    "    if meta_tag:\n",
    "        meta_id = read_map(f\"{data_dir}/raw_data/{meta_tag}.raw.txt\", rm_suffix_idx)\n",
    "        return trn_id, tst_id, lbl_id, meta_id\n",
    "    return trn_id, tst_id, lbl_id\n"
   ]
  },
  {
   "cell_type": "code",
   "execution_count": 3,
   "id": "bc6fe600",
   "metadata": {
    "code_folding": [
     0
    ]
   },
   "outputs": [],
   "source": [
    "def read_map(filename):\n",
    "    text = []\n",
    "    with open(filename) as file:\n",
    "        for line in file:\n",
    "            text.append(line[:-1].split('->', maxsplit=1)[1])\n",
    "    return text\n"
   ]
  },
  {
   "cell_type": "code",
   "execution_count": 4,
   "id": "18e1bbbd",
   "metadata": {
    "code_folding": [
     0
    ]
   },
   "outputs": [],
   "source": [
    "def read_XC_data(data_dir, meta_tag=\"\"):\n",
    "    data_tag = f\"{meta_tag}_\" if meta_tag else meta_tag\n",
    "    trn_xy = du.read_sparse_file(f\"{data_dir}/{data_tag}trn_X_Y.txt\")\n",
    "    tst_xy = du.read_sparse_file(f\"{data_dir}/{data_tag}tst_X_Y.txt\")\n",
    "    \n",
    "    trn_map = read_map(f\"{data_dir}/raw_data/train.raw.txt\")\n",
    "    tst_map = read_map(f\"{data_dir}/raw_data/test.raw.txt\")\n",
    "    lbl_map = read_map(f\"{data_dir}/raw_data/label.raw.txt\")\n",
    "        \n",
    "    if meta_tag:\n",
    "        lbl_xy = du.read_sparse_file(f\"{data_dir}/{data_tag}lbl_X_Y.txt\")\n",
    "        meta_map = read_map(f\"{data_dir}/raw_data/{meta_tag}.raw.txt\")\n",
    "        return (trn_xy, tst_xy, lbl_xy), (trn_map, tst_map, lbl_map, meta_map)\n",
    "    return (trn_xy, tst_xy), (trn_map, tst_map, lbl_map)\n"
   ]
  },
  {
   "cell_type": "code",
   "execution_count": 5,
   "id": "a7b5f456",
   "metadata": {
    "code_folding": [
     0
    ]
   },
   "outputs": [],
   "source": [
    "def load_XC_predictions(pred_file):\n",
    "    output = np.load(pred_file)\n",
    "    return csr_matrix((output['data'], output['indices'], output['indptr']), \n",
    "                      dtype=float, shape=output['shape'])"
   ]
  },
  {
   "cell_type": "code",
   "execution_count": 6,
   "id": "01556442",
   "metadata": {
    "code_folding": []
   },
   "outputs": [],
   "source": [
    "def read_XC_results(result_dir, is_clf=True):\n",
    "    model_type = 'clf' if is_clf else 'knn'\n",
    "    pred_trn = load_XC_predictions(f\"{result_dir}/trn_predictions_{model_type}.npz\")\n",
    "    pred_tst = load_XC_predictions(f\"{result_dir}/tst_predictions_{model_type}.npz\")\n",
    "    return pred_trn, pred_tst\n"
   ]
  },
  {
   "cell_type": "markdown",
   "id": "5b1b1ed7",
   "metadata": {},
   "source": [
    "# Load"
   ]
  },
  {
   "cell_type": "code",
   "execution_count": 121,
   "id": "98018a3f",
   "metadata": {},
   "outputs": [],
   "source": [
    "data_dir = \"/home/scai/phd/aiz218323/tmp/XC/data/G-LF-WikiSeeAlsoTitles-300K/\"\n",
    "result_dir = \"/home/scai/phd/aiz218323/tmp/XC/results/NGAME/STransformer/\\\n",
    "G-LF-WikiSeeAlsoTitles-300K/v_0_100/\"\n",
    "\n",
    "xy_data, xy_maps = read_XC_data(data_dir)\n",
    "xy_pred = read_XC_results(result_dir)"
   ]
  },
  {
   "cell_type": "code",
   "execution_count": 135,
   "id": "1b5b5f3c",
   "metadata": {},
   "outputs": [],
   "source": [
    "xy_ids = read_ids(data_dir, rm_suffix_idx=-2)"
   ]
  },
  {
   "cell_type": "code",
   "execution_count": 7,
   "id": "8fd64eb6",
   "metadata": {},
   "outputs": [
    {
     "name": "stderr",
     "output_type": "stream",
     "text": [
      "/home/scai/phd/aiz218323/.local/lib/python3.7/site-packages/xclib-0.97-py3.7-linux-x86_64.egg/xclib/data/data_utils.py:263: UserWarning: Header mis-match from inferred shape!\n",
      "  warnings.warn(\"Header mis-match from inferred shape!\")\n"
     ]
    }
   ],
   "source": [
    "cat_data, cat_maps = read_XC_data(data_dir, meta_tag=\"category\")"
   ]
  },
  {
   "cell_type": "markdown",
   "id": "e498911c",
   "metadata": {
    "heading_collapsed": true
   },
   "source": [
    "# Metadata Augmentation"
   ]
  },
  {
   "cell_type": "code",
   "execution_count": 95,
   "id": "cd827174",
   "metadata": {
    "hidden": true
   },
   "outputs": [
    {
     "data": {
      "application/vnd.jupyter.widget-view+json": {
       "model_id": "6af3c5cd2ba14b6eb715c02f2777f041",
       "version_major": 2,
       "version_minor": 0
      },
      "text/plain": [
       "  0%|          | 0/3 [00:00<?, ?it/s]"
      ]
     },
     "metadata": {},
     "output_type": "display_data"
    },
    {
     "data": {
      "application/vnd.jupyter.widget-view+json": {
       "model_id": "4bb56acc57a54a2b8fe14cef81601d0c",
       "version_major": 2,
       "version_minor": 0
      },
      "text/plain": [
       "  0%|          | 0/696333 [00:00<?, ?it/s]"
      ]
     },
     "metadata": {},
     "output_type": "display_data"
    },
    {
     "data": {
      "application/vnd.jupyter.widget-view+json": {
       "model_id": "0aa3c7307a454d2ba414e30b58e62082",
       "version_major": 2,
       "version_minor": 0
      },
      "text/plain": [
       "  0%|          | 0/260207 [00:00<?, ?it/s]"
      ]
     },
     "metadata": {},
     "output_type": "display_data"
    },
    {
     "data": {
      "application/vnd.jupyter.widget-view+json": {
       "model_id": "20a0ab00e2a74753b4ceee60d467ca70",
       "version_major": 2,
       "version_minor": 0
      },
      "text/plain": [
       "  0%|          | 0/235882 [00:00<?, ?it/s]"
      ]
     },
     "metadata": {},
     "output_type": "display_data"
    }
   ],
   "source": [
    "k, meta_map = 5, np.array(cat_maps[-1])\n",
    "\n",
    "aug_maps = []\n",
    "for xy_map, cat in tqdm(zip(xy_maps, cat_data), total=len(xy_maps)):\n",
    "    aug_map = []\n",
    "    for text, aug_row in tqdm(zip(xy_map, cat), total=len(xy_map)):\n",
    "        aug_idxs = np.random.permutation(aug_row.indices)[:k]\n",
    "        aug_text = [mt[9:] for mt in meta_map[aug_idxs]]\n",
    "        aug_text = text + \",\" + \",\".join(aug_text) if len(aug_text) else text\n",
    "        aug_map.append(aug_text)\n",
    "    aug_maps.append(aug_map)\n",
    "    "
   ]
  },
  {
   "cell_type": "code",
   "execution_count": 182,
   "id": "ac0bff94",
   "metadata": {
    "code_folding": [],
    "hidden": true
   },
   "outputs": [],
   "source": [
    "def write_maps(data_dir, ids, maps, meta_tag):\n",
    "    save_file = f\"{data_dir}/raw_data/train_{meta_tag}.raw.txt\"\n",
    "    write_map(ids[0], maps[0], save_file)\n",
    "    \n",
    "    save_file = f\"{data_dir}/raw_data/test_{meta_tag}.raw.txt\"\n",
    "    write_map(ids[1], maps[1], save_file)\n",
    "    \n",
    "    save_file = f\"{data_dir}/raw_data/label_{meta_tag}.raw.txt\"\n",
    "    write_map(ids[2], maps[2], save_file)\n"
   ]
  },
  {
   "cell_type": "code",
   "execution_count": 183,
   "id": "4efb0e32",
   "metadata": {
    "code_folding": [],
    "hidden": true
   },
   "outputs": [],
   "source": [
    "def write_map(ids, texts, save_file):\n",
    "    with open(save_file, 'w') as file:\n",
    "        for id, text in zip(ids, texts):\n",
    "            file.write(f\"{id}->{text}\\n\")\n",
    "            "
   ]
  },
  {
   "cell_type": "code",
   "execution_count": 123,
   "id": "5ed23c40",
   "metadata": {
    "hidden": true
   },
   "outputs": [],
   "source": [
    "write_maps(data_dir, xy_ids, aug_maps, \"category\")"
   ]
  },
  {
   "cell_type": "markdown",
   "id": "1b06b4ea",
   "metadata": {},
   "source": [
    "# XC Augmentation"
   ]
  },
  {
   "cell_type": "code",
   "execution_count": 140,
   "id": "68d0b2a0",
   "metadata": {},
   "outputs": [],
   "source": [
    "meta_data_dir = \"/home/scai/phd/aiz218323/tmp/XC/data/G-LF-WikiTitles-1M/\"\n",
    "meta_result_dir = \"/home/scai/phd/aiz218323/tmp/XC/results/NGAME/STransformer/\\\n",
    "G-LF-WikiTitles-1M/v_0_100/\"\n",
    "\n",
    "meta_data, meta_maps = read_XC_data(meta_data_dir)\n",
    "meta_pred = read_XC_results(meta_result_dir)"
   ]
  },
  {
   "cell_type": "code",
   "execution_count": 141,
   "id": "623d82da",
   "metadata": {},
   "outputs": [],
   "source": [
    "meta_ids = read_ids(meta_data_dir)"
   ]
  },
  {
   "cell_type": "code",
   "execution_count": 207,
   "id": "d5c7ea20",
   "metadata": {},
   "outputs": [],
   "source": [
    "def XC_augmentation(aug_map, meta_info, meta_lbl, k=5):\n",
    "    aug_text, aug_ids = aug_map\n",
    "    meta_pred, meta_ids = meta_info\n",
    "    meta_lbl = np.array(meta_lbl)\n",
    "    \n",
    "    _, idxs, meta_idxs = np.intersect1d(aug_ids, meta_ids, return_indices=True)\n",
    "    \n",
    "    for idx, meta_idx in tqdm(zip(idxs, meta_idxs), total=len(idxs)):\n",
    "        aug_lbl_idxs = np.argsort(meta_pred[meta_idx].data)[:-k-1:-1]\n",
    "        aug_lbl_idxs = meta_pred[meta_idx].indices[aug_lbl_idxs]\n",
    "        aug_text[idx] = aug_text[idx] + \",\" + \",\".join(meta_lbl[aug_lbl_idxs])\n",
    "        "
   ]
  },
  {
   "cell_type": "code",
   "execution_count": 208,
   "id": "0b6c8609",
   "metadata": {},
   "outputs": [
    {
     "data": {
      "application/vnd.jupyter.widget-view+json": {
       "model_id": "b828224a846847b3b065fba19b8aa450",
       "version_major": 2,
       "version_minor": 0
      },
      "text/plain": [
       "  0%|          | 0/472007 [00:00<?, ?it/s]"
      ]
     },
     "metadata": {},
     "output_type": "display_data"
    },
    {
     "data": {
      "application/vnd.jupyter.widget-view+json": {
       "model_id": "3a7291564b0b44d28f7adc62aacaf367",
       "version_major": 2,
       "version_minor": 0
      },
      "text/plain": [
       "  0%|          | 0/206122 [00:00<?, ?it/s]"
      ]
     },
     "metadata": {},
     "output_type": "display_data"
    },
    {
     "data": {
      "application/vnd.jupyter.widget-view+json": {
       "model_id": "54760e4f375546088d29ed685efd4e22",
       "version_major": 2,
       "version_minor": 0
      },
      "text/plain": [
       "  0%|          | 0/173893 [00:00<?, ?it/s]"
      ]
     },
     "metadata": {},
     "output_type": "display_data"
    },
    {
     "data": {
      "application/vnd.jupyter.widget-view+json": {
       "model_id": "e101c3478a074b8b8e56d5cdd6faaf89",
       "version_major": 2,
       "version_minor": 0
      },
      "text/plain": [
       "  0%|          | 0/75956 [00:00<?, ?it/s]"
      ]
     },
     "metadata": {},
     "output_type": "display_data"
    }
   ],
   "source": [
    "k = 5\n",
    "trn_aug_text = xy_maps[0].copy()\n",
    "tst_aug_text = xy_maps[1].copy()\n",
    "\n",
    "trn_aug_map = (trn_aug_text, xy_ids[0])\n",
    "tst_aug_map = (tst_aug_text, xy_ids[1])\n",
    "\n",
    "trn_meta_info = (meta_pred[0], meta_ids[0])\n",
    "tst_meta_info = (meta_pred[1], meta_ids[1])\n",
    "\n",
    "meta_lbl = meta_maps[2]\n",
    "\n",
    "XC_augmentation(trn_aug_map, trn_meta_info, meta_lbl, k=5)\n",
    "XC_augmentation(trn_aug_map, tst_meta_info, meta_lbl, k=5)\n",
    "\n",
    "XC_augmentation(tst_aug_map, trn_meta_info, meta_lbl, k=5)\n",
    "XC_augmentation(tst_aug_map, tst_meta_info, meta_lbl, k=5)"
   ]
  },
  {
   "cell_type": "code",
   "execution_count": 285,
   "id": "64ee7b2f",
   "metadata": {},
   "outputs": [],
   "source": [
    "aug_maps = [trn_aug_text, tst_aug_text, xy_maps[2]]\n",
    "write_maps(data_dir, xy_ids, aug_maps, \"XCcategory\")"
   ]
  },
  {
   "cell_type": "markdown",
   "id": "1f27adb8",
   "metadata": {
    "heading_collapsed": true
   },
   "source": [
    "# Encoder Augmentation"
   ]
  },
  {
   "cell_type": "code",
   "execution_count": 315,
   "id": "9c82315d",
   "metadata": {
    "hidden": true
   },
   "outputs": [],
   "source": [
    "meta_data_dir = \"/home/scai/phd/aiz218323/tmp/XC/data/G-LF-WikiTitles-1M/\"\n",
    "meta_result_dir = \"/home/scai/phd/aiz218323/tmp/XC/results/NGAME/STransformer/\\\n",
    "G-LF-WikiTitles-1M/v_0_100/\"\n",
    "\n",
    "meta_data, meta_maps = read_XC_data(meta_data_dir)\n",
    "meta_pred = read_XC_results(meta_result_dir, is_clf=False)"
   ]
  },
  {
   "cell_type": "code",
   "execution_count": 316,
   "id": "b7f4ff28",
   "metadata": {
    "hidden": true
   },
   "outputs": [],
   "source": [
    "meta_ids = read_ids(meta_data_dir)"
   ]
  },
  {
   "cell_type": "code",
   "execution_count": 317,
   "id": "a2ecc2c1",
   "metadata": {
    "hidden": true
   },
   "outputs": [
    {
     "data": {
      "application/vnd.jupyter.widget-view+json": {
       "model_id": "9818c170656145d28f218cd5e5ba9e82",
       "version_major": 2,
       "version_minor": 0
      },
      "text/plain": [
       "  0%|          | 0/472007 [00:00<?, ?it/s]"
      ]
     },
     "metadata": {},
     "output_type": "display_data"
    },
    {
     "data": {
      "application/vnd.jupyter.widget-view+json": {
       "model_id": "768eb973418841f7ba5795038b8d6c57",
       "version_major": 2,
       "version_minor": 0
      },
      "text/plain": [
       "  0%|          | 0/206122 [00:00<?, ?it/s]"
      ]
     },
     "metadata": {},
     "output_type": "display_data"
    },
    {
     "data": {
      "application/vnd.jupyter.widget-view+json": {
       "model_id": "6c5769b1f2ee45d0a4b605c184edce1f",
       "version_major": 2,
       "version_minor": 0
      },
      "text/plain": [
       "  0%|          | 0/173893 [00:00<?, ?it/s]"
      ]
     },
     "metadata": {},
     "output_type": "display_data"
    },
    {
     "data": {
      "application/vnd.jupyter.widget-view+json": {
       "model_id": "e3714cfee2f6475fbb7a577d99d77895",
       "version_major": 2,
       "version_minor": 0
      },
      "text/plain": [
       "  0%|          | 0/75956 [00:00<?, ?it/s]"
      ]
     },
     "metadata": {},
     "output_type": "display_data"
    }
   ],
   "source": [
    "k = 5\n",
    "trn_aug_text = xy_maps[0].copy()\n",
    "tst_aug_text = xy_maps[1].copy()\n",
    "\n",
    "trn_aug_map = (trn_aug_text, xy_ids[0])\n",
    "tst_aug_map = (tst_aug_text, xy_ids[1])\n",
    "\n",
    "trn_meta_info = (meta_pred[0], meta_ids[0])\n",
    "tst_meta_info = (meta_pred[1], meta_ids[1])\n",
    "\n",
    "meta_lbl = meta_maps[2]\n",
    "\n",
    "XC_augmentation(trn_aug_map, trn_meta_info, meta_lbl, k=5)\n",
    "XC_augmentation(trn_aug_map, tst_meta_info, meta_lbl, k=5)\n",
    "\n",
    "XC_augmentation(tst_aug_map, trn_meta_info, meta_lbl, k=5)\n",
    "XC_augmentation(tst_aug_map, tst_meta_info, meta_lbl, k=5)"
   ]
  },
  {
   "cell_type": "code",
   "execution_count": 318,
   "id": "4ad43861",
   "metadata": {
    "hidden": true
   },
   "outputs": [],
   "source": [
    "aug_maps = [trn_aug_text, tst_aug_text, xy_maps[2]]\n",
    "write_maps(data_dir, xy_ids, aug_maps, \"KNNcategory\")"
   ]
  },
  {
   "cell_type": "code",
   "execution_count": null,
   "id": "49280acd",
   "metadata": {
    "hidden": true
   },
   "outputs": [],
   "source": []
  },
  {
   "cell_type": "code",
   "execution_count": null,
   "id": "4478c95b",
   "metadata": {
    "hidden": true
   },
   "outputs": [],
   "source": []
  }
 ],
 "metadata": {
  "kernelspec": {
   "display_name": "Python 3 (ipykernel)",
   "language": "python",
   "name": "python3"
  },
  "language_info": {
   "codemirror_mode": {
    "name": "ipython",
    "version": 3
   },
   "file_extension": ".py",
   "mimetype": "text/x-python",
   "name": "python",
   "nbconvert_exporter": "python",
   "pygments_lexer": "ipython3",
   "version": "3.7.1"
  },
  "toc": {
   "base_numbering": 1,
   "nav_menu": {},
   "number_sections": true,
   "sideBar": true,
   "skip_h1_title": false,
   "title_cell": "Table of Contents",
   "title_sidebar": "Contents",
   "toc_cell": false,
   "toc_position": {},
   "toc_section_display": true,
   "toc_window_display": false
  }
 },
 "nbformat": 4,
 "nbformat_minor": 5
}
