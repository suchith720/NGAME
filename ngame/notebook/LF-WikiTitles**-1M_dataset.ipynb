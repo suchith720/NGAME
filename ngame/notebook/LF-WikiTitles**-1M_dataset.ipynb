{
 "cells": [
  {
   "cell_type": "code",
   "execution_count": 1,
   "id": "4f3db09e",
   "metadata": {},
   "outputs": [],
   "source": [
    "import numpy as np\n",
    "import pandas as pd\n",
    "from tqdm.auto import tqdm\n",
    "\n",
    "import xclib.data.data_utils as du\n",
    "from scipy.sparse import csr_matrix\n",
    "from scipy.sparse import coo_matrix\n",
    "from IPython.display import display\n",
    "from timeit import default_timer as timer\n",
    "import xclib.evaluation.xc_metrics as xc_metrics"
   ]
  },
  {
   "cell_type": "markdown",
   "id": "6bc6976b",
   "metadata": {
    "heading_collapsed": true
   },
   "source": [
    "# Code"
   ]
  },
  {
   "cell_type": "code",
   "execution_count": 15,
   "id": "c96de258",
   "metadata": {
    "code_folding": [
     0,
     7
    ],
    "hidden": true
   },
   "outputs": [],
   "source": [
    "def read_id(filename, rm_suffix_idx=None):\n",
    "    text = []\n",
    "    with open(filename) as file:\n",
    "        for line in file:\n",
    "            text.append(line[:-1].split('->', maxsplit=1)[0][:rm_suffix_idx])\n",
    "    return text\n",
    "\n",
    "def read_ids(data_dir, rm_suffix_idx=None, meta_tag=\"\"):\n",
    "    trn_id = read_id(f\"{data_dir}/raw_data/train.raw.txt\", rm_suffix_idx)\n",
    "    tst_id = read_id(f\"{data_dir}/raw_data/test.raw.txt\", rm_suffix_idx)\n",
    "    lbl_id = read_id(f\"{data_dir}/raw_data/label.raw.txt\", rm_suffix_idx)\n",
    "    if meta_tag:\n",
    "        meta_id = read_map(f\"{data_dir}/raw_data/{meta_tag}.raw.txt\", rm_suffix_idx)\n",
    "        return trn_id, tst_id, lbl_id, meta_id\n",
    "    return trn_id, tst_id, lbl_id\n"
   ]
  },
  {
   "cell_type": "code",
   "execution_count": 17,
   "id": "fa0da52d",
   "metadata": {
    "code_folding": [
     0
    ],
    "hidden": true
   },
   "outputs": [],
   "source": [
    "def read_map(filename):\n",
    "    text = []\n",
    "    with open(filename) as file:\n",
    "        for line in file:\n",
    "            text.append(line[:-1].split('->', maxsplit=1)[1])\n",
    "    return text\n"
   ]
  },
  {
   "cell_type": "code",
   "execution_count": 18,
   "id": "97390987",
   "metadata": {
    "code_folding": [
     0
    ],
    "hidden": true
   },
   "outputs": [],
   "source": [
    "def read_XC_data(data_dir, meta_tag=\"\"):\n",
    "    data_tag = f\"{meta_tag}_\" if meta_tag else meta_tag\n",
    "    trn_xy = du.read_sparse_file(f\"{data_dir}/{data_tag}trn_X_Y.txt\")\n",
    "    tst_xy = du.read_sparse_file(f\"{data_dir}/{data_tag}tst_X_Y.txt\")\n",
    "    \n",
    "    trn_map = read_map(f\"{data_dir}/raw_data/train.raw.txt\")\n",
    "    tst_map = read_map(f\"{data_dir}/raw_data/test.raw.txt\")\n",
    "    lbl_map = read_map(f\"{data_dir}/raw_data/label.raw.txt\")\n",
    "        \n",
    "    if meta_tag:\n",
    "        lbl_xy = du.read_sparse_file(f\"{data_dir}/{data_tag}lbl_X_Y.txt\")\n",
    "        meta_map = read_map(f\"{data_dir}/raw_data/{meta_tag}.raw.txt\")\n",
    "        return (trn_xy, tst_xy, lbl_xy), (trn_map, tst_map, lbl_map, meta_map)\n",
    "    return (trn_xy, tst_xy), (trn_map, tst_map, lbl_map)\n"
   ]
  },
  {
   "cell_type": "code",
   "execution_count": 19,
   "id": "6dab1989",
   "metadata": {
    "code_folding": [
     0,
     5
    ],
    "hidden": true
   },
   "outputs": [],
   "source": [
    "def load_XC_predictions(pred_file):\n",
    "    output = np.load(pred_file)\n",
    "    return csr_matrix((output['data'], output['indices'], output['indptr']), \n",
    "                      dtype=float, shape=output['shape'])\n",
    "\n",
    "def read_XC_results(result_dir):\n",
    "    pred_trn = load_XC_predictions(f\"{result_dir}/trn_predictions_clf.npz\")\n",
    "    pred_tst = load_XC_predictions(f\"{result_dir}/tst_predictions_clf.npz\")\n",
    "    return pred_trn, pred_tst\n"
   ]
  },
  {
   "cell_type": "markdown",
   "id": "865f760a",
   "metadata": {},
   "source": [
    "# Load"
   ]
  },
  {
   "cell_type": "code",
   "execution_count": 110,
   "id": "8454614b",
   "metadata": {},
   "outputs": [],
   "source": [
    "data_dir = \"/home/scai/phd/aiz218323/tmp/XC/data/G-LF-WikiSeeAlsoTitles-300K/\"\n",
    "xy_data, xy_maps = read_XC_data(data_dir)\n",
    "xy_ids = read_ids(data_dir)"
   ]
  },
  {
   "cell_type": "code",
   "execution_count": 111,
   "id": "04ee2e36",
   "metadata": {},
   "outputs": [],
   "source": [
    "dataset = \"LF-WikiTitles-1M\""
   ]
  },
  {
   "cell_type": "code",
   "execution_count": 112,
   "id": "335e8146",
   "metadata": {},
   "outputs": [],
   "source": [
    "result_dir = f\"{data_dir}/predictions/{dataset}\"\n",
    "xy_pred = read_XC_results(result_dir)\n",
    "\n",
    "pred_label_file = f\"/home/scai/phd/aiz218323/tmp/XC/data/{dataset}/raw_data/label.raw.txt\"\n",
    "label_map = read_map(pred_label_file)"
   ]
  },
  {
   "cell_type": "code",
   "execution_count": 113,
   "id": "ca3bb2e9",
   "metadata": {
    "code_folding": [
     0
    ]
   },
   "outputs": [],
   "source": [
    "def create_augmented_map(pred_info, xy_info, topk=5):\n",
    "    preds, label_map = pred_info\n",
    "    xy_ids, xy_maps = xy_info\n",
    "    \n",
    "    aug_maps = []\n",
    "    label_map = np.array(label_map)\n",
    "    for pred, xy_map, xy_id in zip(preds, xy_maps, xy_ids):\n",
    "        aug_map = []\n",
    "        for row, text, i in zip(pred, xy_map, xy_id):\n",
    "            aug_text = \",\".join(label_map[row.indices[:topk]])\n",
    "            aug_text = f\"{i}->{text},{aug_text}\"\n",
    "            aug_map.append(aug_text)\n",
    "        aug_maps.append(aug_map)\n",
    "    return aug_maps\n"
   ]
  },
  {
   "cell_type": "code",
   "execution_count": 114,
   "id": "f86b30ea",
   "metadata": {},
   "outputs": [],
   "source": [
    "pred_info = xy_pred, label_map\n",
    "xy_info = xy_ids, xy_maps\n",
    "\n",
    "aug_maps = create_augmented_map(pred_info, xy_info, topk=5)"
   ]
  },
  {
   "cell_type": "code",
   "execution_count": 115,
   "id": "11fc799d",
   "metadata": {},
   "outputs": [],
   "source": [
    "label_aug_map = [f\"{i}->{text}\" for i, text in zip(xy_ids[2], xy_maps[2])]"
   ]
  },
  {
   "cell_type": "markdown",
   "id": "202ddbe1",
   "metadata": {},
   "source": [
    "# Save"
   ]
  },
  {
   "cell_type": "code",
   "execution_count": 116,
   "id": "89a69383",
   "metadata": {},
   "outputs": [],
   "source": [
    "def write_map(texts, filename):\n",
    "    with open(filename, 'w') as file:\n",
    "        for text in texts:\n",
    "            file.write(f\"{text}\\n\")\n",
    "            "
   ]
  },
  {
   "cell_type": "code",
   "execution_count": 117,
   "id": "a554d3a6",
   "metadata": {},
   "outputs": [],
   "source": [
    "save_dir = \"/home/scai/phd/aiz218323/tmp/XC/data/G-LF-WikiSeeAlsoTitles-300K\""
   ]
  },
  {
   "cell_type": "code",
   "execution_count": 118,
   "id": "779e29b2",
   "metadata": {},
   "outputs": [],
   "source": [
    "write_map(aug_maps[0], f\"{save_dir}/raw_data/train_{dataset}.raw.txt\")\n",
    "write_map(aug_maps[1], f\"{save_dir}/raw_data/test_{dataset}.raw.txt\")\n",
    "write_map(label_aug_map, f\"{save_dir}/raw_data/label_{dataset}.raw.txt\")"
   ]
  },
  {
   "cell_type": "code",
   "execution_count": null,
   "id": "1bb48c71",
   "metadata": {},
   "outputs": [],
   "source": []
  },
  {
   "cell_type": "code",
   "execution_count": 146,
   "id": "6f985ac9",
   "metadata": {},
   "outputs": [],
   "source": [
    "file1 = \"/home/scai/phd/aiz218323/tmp/XC/data/G-LF-WikiSeeAlsoTitles-300K/raw_data/label_category.raw.txt\"\n",
    "\n",
    "file2 = \"/home/scai/phd/aiz218323/tmp/XC/data/G-LF-WikiSeeAlsoTitles-300K/raw_data/label_category_metadata.raw.txt\""
   ]
  },
  {
   "cell_type": "code",
   "execution_count": 147,
   "id": "7f449330",
   "metadata": {},
   "outputs": [],
   "source": [
    "with open(file1) as f1, open(file2, 'w') as f2:\n",
    "    for line in f1:\n",
    "        idx, text = line.split('->', maxsplit=1)\n",
    "        \n",
    "        text_parts = text.split(\",\", maxsplit=1)\n",
    "        if len(text_parts) > 1:\n",
    "            f2.write(f'{idx}->{text_parts[1]}')\n",
    "        else:\n",
    "            f2.write(f'{idx}->{text_parts[0]}')\n",
    "        "
   ]
  },
  {
   "cell_type": "code",
   "execution_count": null,
   "id": "2310c436",
   "metadata": {},
   "outputs": [],
   "source": []
  },
  {
   "cell_type": "code",
   "execution_count": null,
   "id": "cfa1bece",
   "metadata": {},
   "outputs": [],
   "source": []
  },
  {
   "cell_type": "code",
   "execution_count": null,
   "id": "70ea5d58",
   "metadata": {},
   "outputs": [],
   "source": []
  }
 ],
 "metadata": {
  "kernelspec": {
   "display_name": "Python 3 (ipykernel)",
   "language": "python",
   "name": "python3"
  },
  "language_info": {
   "codemirror_mode": {
    "name": "ipython",
    "version": 3
   },
   "file_extension": ".py",
   "mimetype": "text/x-python",
   "name": "python",
   "nbconvert_exporter": "python",
   "pygments_lexer": "ipython3",
   "version": "3.7.1"
  },
  "toc": {
   "base_numbering": 1,
   "nav_menu": {},
   "number_sections": true,
   "sideBar": true,
   "skip_h1_title": false,
   "title_cell": "Table of Contents",
   "title_sidebar": "Contents",
   "toc_cell": false,
   "toc_position": {},
   "toc_section_display": true,
   "toc_window_display": false
  }
 },
 "nbformat": 4,
 "nbformat_minor": 5
}
