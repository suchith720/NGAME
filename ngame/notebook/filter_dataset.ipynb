{
 "cells": [
  {
   "cell_type": "code",
   "execution_count": 3,
   "id": "979f8b3b",
   "metadata": {},
   "outputs": [],
   "source": [
    "import numpy as np\n",
    "import pandas as pd\n",
    "from tqdm.auto import tqdm\n",
    "\n",
    "import xclib.data.data_utils as du\n",
    "from scipy.sparse import csr_matrix\n",
    "from scipy.sparse import coo_matrix\n",
    "from IPython.display import display\n",
    "from timeit import default_timer as timer\n",
    "import xclib.evaluation.xc_metrics as xc_metrics"
   ]
  },
  {
   "cell_type": "markdown",
   "id": "314b31f5",
   "metadata": {},
   "source": [
    "# Code"
   ]
  },
  {
   "cell_type": "code",
   "execution_count": 7,
   "id": "96284f98",
   "metadata": {
    "code_folding": [
     0,
     7
    ]
   },
   "outputs": [],
   "source": [
    "def read_id(filename, rm_suffix_idx=None):\n",
    "    text = []\n",
    "    with open(filename) as file:\n",
    "        for line in file:\n",
    "            text.append(line[:-1].split('->', maxsplit=1)[0][:rm_suffix_idx])\n",
    "    return text\n",
    "\n",
    "def read_ids(data_dir, rm_suffix_idx=None, meta_tag=\"\"):\n",
    "    trn_id = read_id(f\"{data_dir}/raw_data/train.raw.txt\", rm_suffix_idx)\n",
    "    tst_id = read_id(f\"{data_dir}/raw_data/test.raw.txt\", rm_suffix_idx)\n",
    "    lbl_id = read_id(f\"{data_dir}/raw_data/label.raw.txt\", rm_suffix_idx)\n",
    "    if meta_tag:\n",
    "        meta_id = read_map(f\"{data_dir}/raw_data/{meta_tag}.raw.txt\", rm_suffix_idx)\n",
    "        return trn_id, tst_id, lbl_id, meta_id\n",
    "    return trn_id, tst_id, lbl_id\n"
   ]
  },
  {
   "cell_type": "code",
   "execution_count": 8,
   "id": "9c9c411f",
   "metadata": {
    "code_folding": [
     0
    ]
   },
   "outputs": [],
   "source": [
    "def read_map(filename):\n",
    "    text = []\n",
    "    with open(filename) as file:\n",
    "        for line in file:\n",
    "            text.append(line[:-1].split('->', maxsplit=1)[1])\n",
    "    return text\n"
   ]
  },
  {
   "cell_type": "code",
   "execution_count": 9,
   "id": "432edbd7",
   "metadata": {
    "code_folding": [
     0
    ]
   },
   "outputs": [],
   "source": [
    "def read_XC_data(data_dir, meta_tag=\"\"):\n",
    "    data_tag = f\"{meta_tag}_\" if meta_tag else meta_tag\n",
    "    trn_xy = du.read_sparse_file(f\"{data_dir}/{data_tag}trn_X_Y.txt\")\n",
    "    tst_xy = du.read_sparse_file(f\"{data_dir}/{data_tag}tst_X_Y.txt\")\n",
    "    \n",
    "    trn_map = read_map(f\"{data_dir}/raw_data/train.raw.txt\")\n",
    "    tst_map = read_map(f\"{data_dir}/raw_data/test.raw.txt\")\n",
    "    lbl_map = read_map(f\"{data_dir}/raw_data/label.raw.txt\")\n",
    "        \n",
    "    if meta_tag:\n",
    "        lbl_xy = du.read_sparse_file(f\"{data_dir}/{data_tag}lbl_X_Y.txt\")\n",
    "        meta_map = read_map(f\"{data_dir}/raw_data/{meta_tag}.raw.txt\")\n",
    "        return (trn_xy, tst_xy, lbl_xy), (trn_map, tst_map, lbl_map, meta_map)\n",
    "    return (trn_xy, tst_xy), (trn_map, tst_map, lbl_map)\n"
   ]
  },
  {
   "cell_type": "code",
   "execution_count": 10,
   "id": "1519ef38",
   "metadata": {
    "code_folding": [
     0
    ]
   },
   "outputs": [],
   "source": [
    "def compute_diff_inter(data_1, data_2):\n",
    "    _, inter_idx, _ = np.intersect1d(data_1, data_2, return_indices=True)\n",
    "    \n",
    "    diff_elements = np.setdiff1d(data_1, data_2)\n",
    "    diff_idx = np.where(np.isin(data_1, diff_elements))[0]\n",
    "    \n",
    "    return inter_idx, diff_idx\n"
   ]
  },
  {
   "cell_type": "markdown",
   "id": "5c712782",
   "metadata": {},
   "source": [
    "# Load"
   ]
  },
  {
   "cell_type": "code",
   "execution_count": 11,
   "id": "e36b8140",
   "metadata": {},
   "outputs": [],
   "source": [
    "data_dir = \"/home/scai/phd/aiz218323/tmp/XC/data/G-LF-WikiSeeAlsoTitles-300K/\"\n",
    "result_dir = \"/home/scai/phd/aiz218323/tmp/XC/results/NGAME/STransformer/\\\n",
    "G-LF-WikiSeeAlsoTitles-300K/v_0_100/\"\n",
    "\n",
    "xy_data, xy_maps = read_XC_data(data_dir)"
   ]
  },
  {
   "cell_type": "code",
   "execution_count": 12,
   "id": "debda8b1",
   "metadata": {},
   "outputs": [],
   "source": [
    "xy_ids = read_ids(data_dir, rm_suffix_idx=-2)"
   ]
  },
  {
   "cell_type": "code",
   "execution_count": 8,
   "id": "6278538f",
   "metadata": {},
   "outputs": [],
   "source": [
    "meta_data_dir = \"/home/scai/phd/aiz218323/tmp/XC/data/G-LF-WikiTitles-1M/\"\n",
    "meta_result_dir = \"/home/scai/phd/aiz218323/tmp/XC/results/NGAME/STransformer/\\\n",
    "G-LF-WikiTitles-1M/v_0_100/\"\n",
    "\n",
    "meta_data, meta_maps = read_XC_data(meta_data_dir)"
   ]
  },
  {
   "cell_type": "code",
   "execution_count": 9,
   "id": "3d04c7c8",
   "metadata": {},
   "outputs": [],
   "source": [
    "meta_ids = read_ids(meta_data_dir)"
   ]
  },
  {
   "cell_type": "markdown",
   "id": "9dd2aa92",
   "metadata": {},
   "source": [
    "## remove G-LF-WikiSeeAlsoTitles-300K_tst"
   ]
  },
  {
   "cell_type": "code",
   "execution_count": 136,
   "id": "30b7a370",
   "metadata": {},
   "outputs": [],
   "source": [
    "_, tst_meta_idx, _ = np.intersect1d(meta_ids[0], xy_ids[1], return_indices=True)"
   ]
  },
  {
   "cell_type": "code",
   "execution_count": 137,
   "id": "88bf1dad",
   "metadata": {},
   "outputs": [],
   "source": [
    "diff_ids = np.setdiff1d(meta_ids[0], xy_ids[1])\n",
    "trn_meta_idx = np.where(np.isin(meta_ids[0], diff_ids))[0]"
   ]
  },
  {
   "cell_type": "markdown",
   "id": "89ffd5d0",
   "metadata": {
    "heading_collapsed": true
   },
   "source": [
    "## remove G-LF-WikiSeeAlsoTitles-300K_trn_tst"
   ]
  },
  {
   "cell_type": "code",
   "execution_count": 97,
   "id": "a22f27ee",
   "metadata": {
    "code_folding": [
     0
    ],
    "hidden": true
   },
   "outputs": [],
   "source": [
    "def compute_diff_inter(data_ids_1, data_ids_2):\n",
    "    _, inter_idx, _ = np.intersect1d(data_ids_1, data_ids_2, return_indices=True)\n",
    "    \n",
    "    diff_ids = np.setdiff1d(data_ids_1, data_ids_2)\n",
    "    diff_idx = np.where(np.isin(data_ids_1, diff_ids))[0]\n",
    "    \n",
    "    return diff_idx, inter_idx\n"
   ]
  },
  {
   "cell_type": "code",
   "execution_count": 98,
   "id": "89c8eafc",
   "metadata": {
    "hidden": true
   },
   "outputs": [],
   "source": [
    "trn_trn_diff_idx, _ = compute_diff_inter(meta_ids[0], xy_ids[0])\n",
    "tst_trn_diff_idx, _ = compute_diff_inter(meta_ids[0], xy_ids[1])"
   ]
  },
  {
   "cell_type": "code",
   "execution_count": 102,
   "id": "b125046a",
   "metadata": {
    "hidden": true
   },
   "outputs": [],
   "source": [
    "trn_meta_idx = np.intersect1d(trn_trn_diff_idx, tst_trn_diff_idx)"
   ]
  },
  {
   "cell_type": "code",
   "execution_count": 103,
   "id": "345c7eb2",
   "metadata": {
    "hidden": true
   },
   "outputs": [],
   "source": [
    "trn_tst_diff_idx, _ = compute_diff_inter(meta_ids[1], xy_ids[0])\n",
    "tst_tst_diff_idx, _ = compute_diff_inter(meta_ids[1], xy_ids[1])"
   ]
  },
  {
   "cell_type": "code",
   "execution_count": 104,
   "id": "589a1948",
   "metadata": {
    "hidden": true
   },
   "outputs": [],
   "source": [
    "tst_meta_idx = np.intersect1d(trn_tst_diff_idx, tst_tst_diff_idx)"
   ]
  },
  {
   "cell_type": "code",
   "execution_count": 105,
   "id": "bdb01084",
   "metadata": {
    "hidden": true
   },
   "outputs": [
    {
     "data": {
      "text/plain": [
       "(3594124, 1535668)"
      ]
     },
     "execution_count": 105,
     "metadata": {},
     "output_type": "execute_result"
    }
   ],
   "source": [
    "len(trn_meta_idx), len(tst_meta_idx)"
   ]
  },
  {
   "cell_type": "markdown",
   "id": "5d63cb99",
   "metadata": {},
   "source": [
    "# Save"
   ]
  },
  {
   "cell_type": "code",
   "execution_count": 12,
   "id": "4aad7c26",
   "metadata": {},
   "outputs": [],
   "source": [
    "import os\n",
    "from scipy.sparse import vstack"
   ]
  },
  {
   "cell_type": "code",
   "execution_count": 138,
   "id": "e8469e02",
   "metadata": {},
   "outputs": [],
   "source": [
    "save_dir = \"/home/scai/phd/aiz218323/tmp/XC/data/LF-WikiTitles-1M/\""
   ]
  },
  {
   "cell_type": "code",
   "execution_count": 139,
   "id": "3e3b5825",
   "metadata": {},
   "outputs": [],
   "source": [
    "os.makedirs(save_dir, exist_ok=True)\n",
    "os.makedirs(f\"{save_dir}/raw_data\", exist_ok=True)"
   ]
  },
  {
   "cell_type": "code",
   "execution_count": 140,
   "id": "13d7681c",
   "metadata": {},
   "outputs": [],
   "source": [
    "trn_X_Y = meta_data[0][trn_meta_idx]\n",
    "\n",
    "train_raw = np.array(meta_maps[0])[trn_meta_idx].tolist()\n",
    "train_ids = np.array(meta_ids[0])[trn_meta_idx].tolist()"
   ]
  },
  {
   "cell_type": "markdown",
   "id": "cb322e95",
   "metadata": {},
   "source": [
    "remove G-LF-WikiSeeAlsoTitles-300K_trn_tst"
   ]
  },
  {
   "cell_type": "code",
   "execution_count": 124,
   "id": "aa53f834",
   "metadata": {},
   "outputs": [],
   "source": [
    "tst_X_Y = meta_data[1][tst_meta_idx]\n",
    "\n",
    "test_raw = np.array(meta_maps[1])[tst_meta_idx].tolist()\n",
    "test_ids = np.array(meta_ids[1])[tst_meta_idx].tolist()"
   ]
  },
  {
   "cell_type": "markdown",
   "id": "56ba55ba",
   "metadata": {},
   "source": [
    "remove G-LF-WikiSeeAlsoTitles-300K_tst"
   ]
  },
  {
   "cell_type": "code",
   "execution_count": 141,
   "id": "6cac13ae",
   "metadata": {},
   "outputs": [],
   "source": [
    "tst_X_Y = vstack([meta_data[1], meta_data[0][tst_meta_idx]])\n",
    "\n",
    "test_raw = meta_maps[1] + np.array(meta_maps[0])[tst_meta_idx].tolist()\n",
    "test_ids = meta_ids[1] + np.array(meta_ids[0])[tst_meta_idx].tolist()"
   ]
  },
  {
   "cell_type": "code",
   "execution_count": 142,
   "id": "6dc300aa",
   "metadata": {
    "code_folding": [
     0
    ]
   },
   "outputs": [],
   "source": [
    "def purge_invalid_labels(trn_xy, tst_xy, label_map, label_ids):\n",
    "    valid_lbl_idx = np.where(trn_xy.getnnz(axis=0) > 0)[0]\n",
    "\n",
    "    trn_X_Y = trn_xy[:, valid_lbl_idx]\n",
    "    tst_X_Y = tst_xy[:, valid_lbl_idx]\n",
    "    label_raw = np.array(label_map)[valid_lbl_idx]\n",
    "    label_ids = np.array(label_ids)[valid_lbl_idx]\n",
    "    \n",
    "    return trn_X_Y, tst_X_Y, label_raw, label_ids\n"
   ]
  },
  {
   "cell_type": "code",
   "execution_count": 143,
   "id": "7ecc9b97",
   "metadata": {
    "code_folding": [
     0
    ]
   },
   "outputs": [],
   "source": [
    "def purge_invalid_datapoints(xy, xy_raw, xy_ids):\n",
    "    valid_datapoint_idx = np.where(xy.getnnz(axis=1) > 0)[0]\n",
    "    \n",
    "    xy = xy[valid_datapoint_idx]\n",
    "    xy_raw = np.array(xy_raw)[valid_datapoint_idx]\n",
    "    xy_ids = np.array(xy_ids)[valid_datapoint_idx]\n",
    "    \n",
    "    return xy, xy_raw, xy_ids\n"
   ]
  },
  {
   "cell_type": "code",
   "execution_count": 144,
   "id": "ccdb5bd3",
   "metadata": {},
   "outputs": [],
   "source": [
    "trn_X_Y, tst_X_Y, label_raw, label_ids = purge_invalid_labels(trn_X_Y, tst_X_Y, \n",
    "                                                              meta_maps[2], meta_ids[2])"
   ]
  },
  {
   "cell_type": "code",
   "execution_count": 145,
   "id": "8e2cdcab",
   "metadata": {},
   "outputs": [],
   "source": [
    "trn_X_Y, train_raw, train_ids = purge_invalid_datapoints(trn_X_Y, train_raw, train_ids)\n",
    "tst_X_Y, test_raw, test_ids = purge_invalid_datapoints(tst_X_Y, test_raw, test_ids)"
   ]
  },
  {
   "cell_type": "code",
   "execution_count": 146,
   "id": "61637185",
   "metadata": {
    "code_folding": [
     0
    ]
   },
   "outputs": [],
   "source": [
    "def write_map(ids, texts, filename):\n",
    "    with open(filename, 'w') as file:\n",
    "        for id, text in zip(ids, texts):\n",
    "            file.write(f\"{id}->{text}\\n\")\n",
    "            "
   ]
  },
  {
   "cell_type": "code",
   "execution_count": 148,
   "id": "3732dd9d",
   "metadata": {},
   "outputs": [],
   "source": [
    "du.write_sparse_file(trn_X_Y, f\"{save_dir}/trn_X_Y.txt\")\n",
    "du.write_sparse_file(tst_X_Y, f\"{save_dir}/tst_X_Y.txt\")\n",
    "\n",
    "write_map(train_ids, train_raw, f\"{save_dir}/raw_data/train.raw.txt\")\n",
    "write_map(test_ids, test_raw, f\"{save_dir}/raw_data/test.raw.txt\")\n",
    "write_map(label_ids, label_raw, f\"{save_dir}/raw_data/label.raw.txt\")"
   ]
  },
  {
   "cell_type": "markdown",
   "id": "4971e31e",
   "metadata": {},
   "source": [
    "## Verify"
   ]
  },
  {
   "cell_type": "code",
   "execution_count": 149,
   "id": "8fb8c7cc",
   "metadata": {},
   "outputs": [
    {
     "name": "stdout",
     "output_type": "stream",
     "text": [
      "0 0\n",
      "0 0\n"
     ]
    }
   ],
   "source": [
    "print(len(np.where(trn_X_Y.getnnz(axis=0) < 1)[0]), len(np.where(trn_X_Y.getnnz(axis=1) < 1)[0]))\n",
    "print(len(np.where(tst_X_Y.getnnz(axis=0) < 1)[0]), len(np.where(tst_X_Y.getnnz(axis=1) < 1)[0]))"
   ]
  },
  {
   "cell_type": "code",
   "execution_count": 150,
   "id": "b958afe6",
   "metadata": {},
   "outputs": [
    {
     "data": {
      "text/plain": [
       "(<4066131x1069780 sparse matrix of type '<class 'numpy.float32'>'\n",
       " \twith 19042723 stored elements in Compressed Sparse Row format>,\n",
       " <1990819x1069780 sparse matrix of type '<class 'numpy.float32'>'\n",
       " \twith 9425522 stored elements in Compressed Sparse Row format>)"
      ]
     },
     "execution_count": 150,
     "metadata": {},
     "output_type": "execute_result"
    }
   ],
   "source": [
    "trn_X_Y, tst_X_Y"
   ]
  },
  {
   "cell_type": "code",
   "execution_count": 151,
   "id": "17c2c671",
   "metadata": {},
   "outputs": [
    {
     "data": {
      "text/plain": [
       "(4066131, 1990819, 1069780)"
      ]
     },
     "execution_count": 151,
     "metadata": {},
     "output_type": "execute_result"
    }
   ],
   "source": [
    "len(train_raw), len(test_raw), len(label_raw)"
   ]
  },
  {
   "cell_type": "code",
   "execution_count": 152,
   "id": "f588e399",
   "metadata": {},
   "outputs": [
    {
     "data": {
      "text/plain": [
       "(4066131, 1990819, 1069780)"
      ]
     },
     "execution_count": 152,
     "metadata": {},
     "output_type": "execute_result"
    }
   ],
   "source": [
    "len(train_ids), len(test_ids), len(label_ids)"
   ]
  },
  {
   "cell_type": "markdown",
   "id": "18f5ef60",
   "metadata": {},
   "source": [
    "# Verify"
   ]
  },
  {
   "cell_type": "code",
   "execution_count": 1,
   "id": "cf259065",
   "metadata": {},
   "outputs": [],
   "source": [
    "save_dir = \"/home/scai/phd/aiz218323/tmp/XC/data/LF-WikiTitles-1M/\""
   ]
  },
  {
   "cell_type": "code",
   "execution_count": 4,
   "id": "647f9921",
   "metadata": {},
   "outputs": [],
   "source": [
    "trn_xy = du.read_sparse_file(f\"{save_dir}/trn_X_Y.txt\")\n",
    "tst_xy = du.read_sparse_file(f\"{save_dir}/tst_X_Y.txt\")"
   ]
  },
  {
   "cell_type": "code",
   "execution_count": 5,
   "id": "b3d1c8c8",
   "metadata": {},
   "outputs": [
    {
     "name": "stdout",
     "output_type": "stream",
     "text": [
      "0 0\n",
      "0 0\n"
     ]
    }
   ],
   "source": [
    "print(len(np.where(trn_xy.getnnz(axis=0) < 1)[0]), len(np.where(trn_xy.getnnz(axis=1) < 1)[0]))\n",
    "print(len(np.where(tst_xy.getnnz(axis=0) < 1)[0]), len(np.where(tst_xy.getnnz(axis=1) < 1)[0]))"
   ]
  },
  {
   "cell_type": "code",
   "execution_count": null,
   "id": "0261c041",
   "metadata": {},
   "outputs": [],
   "source": []
  },
  {
   "cell_type": "code",
   "execution_count": null,
   "id": "e3ad6fac",
   "metadata": {},
   "outputs": [],
   "source": []
  },
  {
   "cell_type": "code",
   "execution_count": null,
   "id": "faec31b5",
   "metadata": {},
   "outputs": [],
   "source": []
  }
 ],
 "metadata": {
  "kernelspec": {
   "display_name": "Python 3 (ipykernel)",
   "language": "python",
   "name": "python3"
  },
  "language_info": {
   "codemirror_mode": {
    "name": "ipython",
    "version": 3
   },
   "file_extension": ".py",
   "mimetype": "text/x-python",
   "name": "python",
   "nbconvert_exporter": "python",
   "pygments_lexer": "ipython3",
   "version": "3.7.1"
  },
  "toc": {
   "base_numbering": 1,
   "nav_menu": {},
   "number_sections": true,
   "sideBar": true,
   "skip_h1_title": false,
   "title_cell": "Table of Contents",
   "title_sidebar": "Contents",
   "toc_cell": false,
   "toc_position": {},
   "toc_section_display": true,
   "toc_window_display": false
  }
 },
 "nbformat": 4,
 "nbformat_minor": 5
}
