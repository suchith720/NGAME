{
 "cells": [
  {
   "cell_type": "code",
   "execution_count": 1,
   "id": "599519fc",
   "metadata": {},
   "outputs": [],
   "source": [
    "import numpy as np\n",
    "import pandas as pd\n",
    "from tqdm.auto import tqdm\n",
    "\n",
    "import xclib.data.data_utils as du\n",
    "from scipy.sparse import csr_matrix\n",
    "from scipy.sparse import coo_matrix\n",
    "from IPython.display import display\n",
    "from timeit import default_timer as timer\n",
    "import xclib.evaluation.xc_metrics as xc_metrics"
   ]
  },
  {
   "cell_type": "markdown",
   "id": "d4697870",
   "metadata": {},
   "source": [
    "# Code"
   ]
  },
  {
   "cell_type": "code",
   "execution_count": 2,
   "id": "0c3a0f33",
   "metadata": {
    "code_folding": [
     0,
     7
    ]
   },
   "outputs": [],
   "source": [
    "def read_id(filename, rm_suffix_idx=None):\n",
    "    text = []\n",
    "    with open(filename) as file:\n",
    "        for line in file:\n",
    "            text.append(line[:-1].split('->', maxsplit=1)[0][:rm_suffix_idx])\n",
    "    return text\n",
    "\n",
    "def read_ids(data_dir, rm_suffix_idx=None, meta_tag=\"\"):\n",
    "    trn_id = read_id(f\"{data_dir}/raw_data/train.raw.txt\", rm_suffix_idx)\n",
    "    tst_id = read_id(f\"{data_dir}/raw_data/test.raw.txt\", rm_suffix_idx)\n",
    "    lbl_id = read_id(f\"{data_dir}/raw_data/label.raw.txt\", rm_suffix_idx)\n",
    "    if meta_tag:\n",
    "        meta_id = read_map(f\"{data_dir}/raw_data/{meta_tag}.raw.txt\", rm_suffix_idx)\n",
    "        return trn_id, tst_id, lbl_id, meta_id\n",
    "    return trn_id, tst_id, lbl_id\n"
   ]
  },
  {
   "cell_type": "code",
   "execution_count": 3,
   "id": "d6007a63",
   "metadata": {
    "code_folding": [
     0
    ]
   },
   "outputs": [],
   "source": [
    "def read_map(filename):\n",
    "    text = []\n",
    "    with open(filename) as file:\n",
    "        for line in file:\n",
    "            text.append(line[:-1].split('->', maxsplit=1)[1])\n",
    "    return text\n"
   ]
  },
  {
   "cell_type": "code",
   "execution_count": 4,
   "id": "21d5e82f",
   "metadata": {
    "code_folding": [
     0
    ]
   },
   "outputs": [],
   "source": [
    "def read_XC_data(data_dir, meta_tag=\"\"):\n",
    "    data_tag = f\"{meta_tag}_\" if meta_tag else meta_tag\n",
    "    trn_xy = du.read_sparse_file(f\"{data_dir}/{data_tag}trn_X_Y.txt\")\n",
    "    tst_xy = du.read_sparse_file(f\"{data_dir}/{data_tag}tst_X_Y.txt\")\n",
    "    \n",
    "    trn_map = read_map(f\"{data_dir}/raw_data/train.raw.txt\")\n",
    "    tst_map = read_map(f\"{data_dir}/raw_data/test.raw.txt\")\n",
    "    lbl_map = read_map(f\"{data_dir}/raw_data/label.raw.txt\")\n",
    "        \n",
    "    if meta_tag:\n",
    "        lbl_xy = du.read_sparse_file(f\"{data_dir}/{data_tag}lbl_X_Y.txt\")\n",
    "        meta_map = read_map(f\"{data_dir}/raw_data/{meta_tag}.raw.txt\")\n",
    "        return (trn_xy, tst_xy, lbl_xy), (trn_map, tst_map, lbl_map, meta_map)\n",
    "    return (trn_xy, tst_xy), (trn_map, tst_map, lbl_map)\n"
   ]
  },
  {
   "cell_type": "code",
   "execution_count": 5,
   "id": "9fe79a34",
   "metadata": {
    "code_folding": [
     0
    ]
   },
   "outputs": [],
   "source": [
    "def read_filter_files(data_dir):\n",
    "    filter_trn = np.loadtxt(f\"{data_dir}/filter_labels_train.txt\", dtype=np.int64)\n",
    "    filter_tst = np.loadtxt(f\"{data_dir}/filter_labels_test.txt\", dtype=np.int64)\n",
    "    \n",
    "    return filter_trn, filter_tst\n"
   ]
  },
  {
   "cell_type": "code",
   "execution_count": 6,
   "id": "3c39aec8",
   "metadata": {
    "code_folding": []
   },
   "outputs": [],
   "source": [
    "def load_XC_predictions(pred_file):\n",
    "    output = np.load(pred_file)\n",
    "    return csr_matrix((output['data'], output['indices'], output['indptr']), \n",
    "                      dtype=float, shape=output['shape'])\n"
   ]
  },
  {
   "cell_type": "code",
   "execution_count": 7,
   "id": "37e79680",
   "metadata": {
    "code_folding": []
   },
   "outputs": [],
   "source": [
    "def read_XC_results(result_dir):\n",
    "    pred_trn = load_XC_predictions(f\"{result_dir}/trn_predictions_clf.npz\")\n",
    "    pred_tst = load_XC_predictions(f\"{result_dir}/tst_predictions_clf.npz\")\n",
    "    return pred_trn, pred_tst\n"
   ]
  },
  {
   "cell_type": "code",
   "execution_count": 8,
   "id": "1ceb7b88",
   "metadata": {
    "code_folding": [
     0
    ]
   },
   "outputs": [],
   "source": [
    "def compute_metrics(data, pred, trn_xy, a=0.55, b=1.5):\n",
    "    inv_propen = xc_metrics.compute_inv_propesity(trn_xy, a, b)\n",
    "\n",
    "    prec = xc_metrics.Metrics(true_labels=data, inv_psp=inv_propen)\n",
    "    result = prec.eval(pred, 5)\n",
    "    prec_metric = pd.DataFrame(result, index=['p', 'n', 'psp', 'psn'], \n",
    "                               columns=[1, 2, 3, 4, 5])\n",
    "    \n",
    "    recall = xc_metrics.recall( X=pred, true_labels=data, k=200)\n",
    "    psrecall = xc_metrics.psrecall(X=pred, true_labels=data, inv_psp=inv_propen, k=200)\n",
    "    columns = np.array([20, 100, 200])\n",
    "    recall_metric = pd.DataFrame([recall[columns-1], psrecall[columns-1]], \n",
    "                                 columns=columns, index=['r', 'psr'])\n",
    "    \n",
    "    return prec_metric, recall_metric\n"
   ]
  },
  {
   "cell_type": "code",
   "execution_count": 9,
   "id": "33237ce1",
   "metadata": {
    "code_folding": [
     0
    ]
   },
   "outputs": [],
   "source": [
    "def compute_filter_idx(trn_xy, trn_map, tst_map, lbl_map):\n",
    "    _, trn_idx, trn_lbl_idx = np.intersect1d(trn_map, lbl_map, return_indices=True)\n",
    "    _, tst_idx, tst_lbl_idx = np.intersect1d(tst_map, lbl_map, return_indices=True)\n",
    "    \n",
    "    xy_leak = trn_xy[trn_idx][:, tst_lbl_idx]\n",
    "    trn_filter_idx, lbl_filter_idx = xy_leak.nonzero()\n",
    "    \n",
    "    filter_x = tst_idx[lbl_filter_idx]\n",
    "    filter_y = trn_lbl_idx[trn_filter_idx]\n",
    "    \n",
    "    abba_leak = np.vstack([filter_x, filter_y]).T\n",
    "    self_leak = np.vstack([tst_idx, tst_lbl_idx]).T\n",
    "    \n",
    "    return abba_leak\n",
    "    return np.vstack([self_leak, abba_leak])\n",
    "\n",
    "#filter_idx = compute_filter_idx(xy_data[0], *xy_maps)"
   ]
  },
  {
   "cell_type": "markdown",
   "id": "cacf2cd4",
   "metadata": {},
   "source": [
    "# Load"
   ]
  },
  {
   "cell_type": "markdown",
   "id": "b485dea6",
   "metadata": {},
   "source": [
    "## G-LF-WikiSeeAlsoTitles-300K"
   ]
  },
  {
   "cell_type": "code",
   "execution_count": 10,
   "id": "ee73a284",
   "metadata": {},
   "outputs": [],
   "source": [
    "data_dir = \"/home/scai/phd/aiz218323/tmp/XC/data/G-LF-WikiSeeAlsoTitles-300K/\"\n",
    "\n",
    "xy_data, xy_maps = read_XC_data(data_dir)\n",
    "filter_idx = read_filter_files(data_dir)"
   ]
  },
  {
   "cell_type": "code",
   "execution_count": 11,
   "id": "04504ca4",
   "metadata": {},
   "outputs": [],
   "source": [
    "result_dir = \"/home/scai/phd/aiz218323/tmp/XC/results/NGAME/STransformer/\\\n",
    "G-LF-WikiSeeAlsoTitles-300K/v_8_200/\"\n",
    "\n",
    "xy_pred = read_XC_results(result_dir)"
   ]
  },
  {
   "cell_type": "markdown",
   "id": "48ca5377",
   "metadata": {},
   "source": [
    "Below code is to remove the data leak due to meta-data"
   ]
  },
  {
   "cell_type": "code",
   "execution_count": null,
   "id": "a0476d72",
   "metadata": {},
   "outputs": [],
   "source": [
    "xy_ids = read_ids(data_dir, rm_suffix_idx=-2)\n",
    "\n",
    "meta_dir = \"/home/scai/phd/aiz218323/tmp/XC/data/G-LF-WikiTitles-1M/\"\n",
    "meta_ids = read_ids(meta_dir)\n",
    "\n",
    "diff_ids = np.setdiff1d(xy_ids[1], meta_ids[0], )\n",
    "valid_tst_idx = np.where(np.isin(xy_ids[1], diff_ids))[0]"
   ]
  },
  {
   "cell_type": "code",
   "execution_count": null,
   "id": "bfb2f7ed",
   "metadata": {
    "code_folding": [
     0
    ]
   },
   "outputs": [],
   "source": [
    "for i, (data, pred, filtr) in enumerate(zip(xy_data, xy_pred, filter_idx)):\n",
    "    pred[filtr[:, 0], filtr[:, 1]] = 0\n",
    "    pred.eliminate_zeros()\n",
    "    \n",
    "    if i == 1:\n",
    "        data = data[valid_tst_idx]\n",
    "        pred = pred[valid_tst_idx]\n",
    "        \n",
    "    metrics = compute_metrics(data, pred, xy_data[0])\n",
    "    display(metrics[0])\n",
    "    display(metrics[1])\n",
    "    "
   ]
  },
  {
   "cell_type": "markdown",
   "id": "d4acd59f",
   "metadata": {},
   "source": [
    "Continuation of the code"
   ]
  },
  {
   "cell_type": "code",
   "execution_count": 12,
   "id": "2a3f54e7",
   "metadata": {},
   "outputs": [
    {
     "name": "stderr",
     "output_type": "stream",
     "text": [
      "/scratch/scai/phd/aiz218323/anaconda3/envs/test_3/lib/python3.7/site-packages/scipy/sparse/_index.py:125: SparseEfficiencyWarning: Changing the sparsity structure of a csr_matrix is expensive. lil_matrix is more efficient.\n",
      "  self._set_arrayXarray(i, j, x)\n"
     ]
    },
    {
     "data": {
      "text/html": [
       "<div>\n",
       "<style scoped>\n",
       "    .dataframe tbody tr th:only-of-type {\n",
       "        vertical-align: middle;\n",
       "    }\n",
       "\n",
       "    .dataframe tbody tr th {\n",
       "        vertical-align: top;\n",
       "    }\n",
       "\n",
       "    .dataframe thead th {\n",
       "        text-align: right;\n",
       "    }\n",
       "</style>\n",
       "<table border=\"1\" class=\"dataframe\">\n",
       "  <thead>\n",
       "    <tr style=\"text-align: right;\">\n",
       "      <th></th>\n",
       "      <th>1</th>\n",
       "      <th>2</th>\n",
       "      <th>3</th>\n",
       "      <th>4</th>\n",
       "      <th>5</th>\n",
       "    </tr>\n",
       "  </thead>\n",
       "  <tbody>\n",
       "    <tr>\n",
       "      <th>p</th>\n",
       "      <td>0.287633</td>\n",
       "      <td>0.210304</td>\n",
       "      <td>0.167495</td>\n",
       "      <td>0.139556</td>\n",
       "      <td>0.120144</td>\n",
       "    </tr>\n",
       "    <tr>\n",
       "      <th>n</th>\n",
       "      <td>0.287633</td>\n",
       "      <td>0.285832</td>\n",
       "      <td>0.291117</td>\n",
       "      <td>0.296723</td>\n",
       "      <td>0.301761</td>\n",
       "    </tr>\n",
       "    <tr>\n",
       "      <th>psp</th>\n",
       "      <td>0.199464</td>\n",
       "      <td>0.208196</td>\n",
       "      <td>0.218579</td>\n",
       "      <td>0.228249</td>\n",
       "      <td>0.237585</td>\n",
       "    </tr>\n",
       "    <tr>\n",
       "      <th>psn</th>\n",
       "      <td>0.199464</td>\n",
       "      <td>0.211789</td>\n",
       "      <td>0.222705</td>\n",
       "      <td>0.230999</td>\n",
       "      <td>0.237504</td>\n",
       "    </tr>\n",
       "  </tbody>\n",
       "</table>\n",
       "</div>"
      ],
      "text/plain": [
       "            1         2         3         4         5\n",
       "p    0.287633  0.210304  0.167495  0.139556  0.120144\n",
       "n    0.287633  0.285832  0.291117  0.296723  0.301761\n",
       "psp  0.199464  0.208196  0.218579  0.228249  0.237585\n",
       "psn  0.199464  0.211789  0.222705  0.230999  0.237504"
      ]
     },
     "metadata": {},
     "output_type": "display_data"
    },
    {
     "data": {
      "text/html": [
       "<div>\n",
       "<style scoped>\n",
       "    .dataframe tbody tr th:only-of-type {\n",
       "        vertical-align: middle;\n",
       "    }\n",
       "\n",
       "    .dataframe tbody tr th {\n",
       "        vertical-align: top;\n",
       "    }\n",
       "\n",
       "    .dataframe thead th {\n",
       "        text-align: right;\n",
       "    }\n",
       "</style>\n",
       "<table border=\"1\" class=\"dataframe\">\n",
       "  <thead>\n",
       "    <tr style=\"text-align: right;\">\n",
       "      <th></th>\n",
       "      <th>20</th>\n",
       "      <th>100</th>\n",
       "      <th>200</th>\n",
       "    </tr>\n",
       "  </thead>\n",
       "  <tbody>\n",
       "    <tr>\n",
       "      <th>r</th>\n",
       "      <td>0.415200</td>\n",
       "      <td>0.513529</td>\n",
       "      <td>0.552019</td>\n",
       "    </tr>\n",
       "    <tr>\n",
       "      <th>psr</th>\n",
       "      <td>0.368585</td>\n",
       "      <td>0.473587</td>\n",
       "      <td>0.514680</td>\n",
       "    </tr>\n",
       "  </tbody>\n",
       "</table>\n",
       "</div>"
      ],
      "text/plain": [
       "          20        100       200\n",
       "r    0.415200  0.513529  0.552019\n",
       "psr  0.368585  0.473587  0.514680"
      ]
     },
     "metadata": {},
     "output_type": "display_data"
    }
   ],
   "source": [
    "for i, (data, pred, filtr) in enumerate(zip(xy_data[1:], xy_pred[1:], filter_idx[1:])):\n",
    "    pred[filtr[:, 0], filtr[:, 1]] = 0\n",
    "    pred.eliminate_zeros()\n",
    "    \n",
    "    metrics = compute_metrics(data, pred, xy_data[0])\n",
    "    display(metrics[0])\n",
    "    display(metrics[1])\n",
    "    "
   ]
  },
  {
   "cell_type": "markdown",
   "id": "42687cc3",
   "metadata": {},
   "source": [
    "## G-LF-WikiTitles-1M"
   ]
  },
  {
   "cell_type": "code",
   "execution_count": 14,
   "id": "ffb41add",
   "metadata": {},
   "outputs": [
    {
     "name": "stderr",
     "output_type": "stream",
     "text": [
      "/home/scai/phd/aiz218323/.local/lib/python3.7/site-packages/xclib-0.97-py3.7-linux-x86_64.egg/xclib/data/data_utils.py:263: UserWarning: Header mis-match from inferred shape!\n",
      "  warnings.warn(\"Header mis-match from inferred shape!\")\n"
     ]
    },
    {
     "data": {
      "text/html": [
       "<div>\n",
       "<style scoped>\n",
       "    .dataframe tbody tr th:only-of-type {\n",
       "        vertical-align: middle;\n",
       "    }\n",
       "\n",
       "    .dataframe tbody tr th {\n",
       "        vertical-align: top;\n",
       "    }\n",
       "\n",
       "    .dataframe thead th {\n",
       "        text-align: right;\n",
       "    }\n",
       "</style>\n",
       "<table border=\"1\" class=\"dataframe\">\n",
       "  <thead>\n",
       "    <tr style=\"text-align: right;\">\n",
       "      <th></th>\n",
       "      <th>1</th>\n",
       "      <th>2</th>\n",
       "      <th>3</th>\n",
       "      <th>4</th>\n",
       "      <th>5</th>\n",
       "    </tr>\n",
       "  </thead>\n",
       "  <tbody>\n",
       "    <tr>\n",
       "      <th>p</th>\n",
       "      <td>0.460758</td>\n",
       "      <td>0.371424</td>\n",
       "      <td>0.310665</td>\n",
       "      <td>0.265413</td>\n",
       "      <td>0.231579</td>\n",
       "    </tr>\n",
       "    <tr>\n",
       "      <th>n</th>\n",
       "      <td>0.460758</td>\n",
       "      <td>0.417337</td>\n",
       "      <td>0.400219</td>\n",
       "      <td>0.394063</td>\n",
       "      <td>0.392801</td>\n",
       "    </tr>\n",
       "    <tr>\n",
       "      <th>psp</th>\n",
       "      <td>0.291126</td>\n",
       "      <td>0.292423</td>\n",
       "      <td>0.292593</td>\n",
       "      <td>0.291471</td>\n",
       "      <td>0.291991</td>\n",
       "    </tr>\n",
       "    <tr>\n",
       "      <th>psn</th>\n",
       "      <td>0.291126</td>\n",
       "      <td>0.297976</td>\n",
       "      <td>0.306444</td>\n",
       "      <td>0.314951</td>\n",
       "      <td>0.323131</td>\n",
       "    </tr>\n",
       "  </tbody>\n",
       "</table>\n",
       "</div>"
      ],
      "text/plain": [
       "            1         2         3         4         5\n",
       "p    0.460758  0.371424  0.310665  0.265413  0.231579\n",
       "n    0.460758  0.417337  0.400219  0.394063  0.392801\n",
       "psp  0.291126  0.292423  0.292593  0.291471  0.291991\n",
       "psn  0.291126  0.297976  0.306444  0.314951  0.323131"
      ]
     },
     "metadata": {},
     "output_type": "display_data"
    },
    {
     "data": {
      "text/html": [
       "<div>\n",
       "<style scoped>\n",
       "    .dataframe tbody tr th:only-of-type {\n",
       "        vertical-align: middle;\n",
       "    }\n",
       "\n",
       "    .dataframe tbody tr th {\n",
       "        vertical-align: top;\n",
       "    }\n",
       "\n",
       "    .dataframe thead th {\n",
       "        text-align: right;\n",
       "    }\n",
       "</style>\n",
       "<table border=\"1\" class=\"dataframe\">\n",
       "  <thead>\n",
       "    <tr style=\"text-align: right;\">\n",
       "      <th></th>\n",
       "      <th>20</th>\n",
       "      <th>100</th>\n",
       "      <th>200</th>\n",
       "    </tr>\n",
       "  </thead>\n",
       "  <tbody>\n",
       "    <tr>\n",
       "      <th>r</th>\n",
       "      <td>0.457455</td>\n",
       "      <td>0.552771</td>\n",
       "      <td>0.590409</td>\n",
       "    </tr>\n",
       "    <tr>\n",
       "      <th>psr</th>\n",
       "      <td>0.452902</td>\n",
       "      <td>0.541441</td>\n",
       "      <td>0.576518</td>\n",
       "    </tr>\n",
       "  </tbody>\n",
       "</table>\n",
       "</div>"
      ],
      "text/plain": [
       "          20        100       200\n",
       "r    0.457455  0.552771  0.590409\n",
       "psr  0.452902  0.541441  0.576518"
      ]
     },
     "metadata": {},
     "output_type": "display_data"
    }
   ],
   "source": [
    "data_dir = \"/home/scai/phd/aiz218323/tmp/XC/data/LF-WikiTitles-700K/\"\n",
    "xy_data, xy_maps = read_XC_data(data_dir)\n",
    "\n",
    "result_dir = \"/home/scai/phd/aiz218323/tmp/XC/results/NGAME/STransformer/\\\n",
    "LF-WikiTitles-700K/v_0_200/\"\n",
    "\n",
    "xy_pred = read_XC_results(result_dir)\n",
    "\n",
    "for data, pred in zip(xy_data[1:], xy_pred[1:]):\n",
    "    metrics = compute_metrics(data, pred, xy_data[0])\n",
    "    display(metrics[0])\n",
    "    display(metrics[1])"
   ]
  },
  {
   "cell_type": "code",
   "execution_count": null,
   "id": "9c8294a9",
   "metadata": {},
   "outputs": [],
   "source": []
  }
 ],
 "metadata": {
  "kernelspec": {
   "display_name": "Python 3 (ipykernel)",
   "language": "python",
   "name": "python3"
  },
  "language_info": {
   "codemirror_mode": {
    "name": "ipython",
    "version": 3
   },
   "file_extension": ".py",
   "mimetype": "text/x-python",
   "name": "python",
   "nbconvert_exporter": "python",
   "pygments_lexer": "ipython3",
   "version": "3.7.1"
  },
  "toc": {
   "base_numbering": 1,
   "nav_menu": {},
   "number_sections": true,
   "sideBar": true,
   "skip_h1_title": false,
   "title_cell": "Table of Contents",
   "title_sidebar": "Contents",
   "toc_cell": false,
   "toc_position": {},
   "toc_section_display": true,
   "toc_window_display": false
  }
 },
 "nbformat": 4,
 "nbformat_minor": 5
}
