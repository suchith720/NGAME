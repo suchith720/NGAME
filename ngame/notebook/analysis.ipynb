{
 "cells": [
  {
   "cell_type": "code",
   "execution_count": 1,
   "id": "bdc6cfef",
   "metadata": {},
   "outputs": [],
   "source": [
    "import numpy as np\n",
    "import pandas as pd\n",
    "from tqdm.auto import tqdm\n",
    "\n",
    "import xclib.data.data_utils as du\n",
    "from scipy.sparse import csr_matrix\n",
    "from scipy.sparse import coo_matrix\n",
    "from IPython.display import display\n",
    "from timeit import default_timer as timer\n",
    "import xclib.evaluation.xc_metrics as xc_metrics"
   ]
  },
  {
   "cell_type": "code",
   "execution_count": 2,
   "id": "93390373",
   "metadata": {},
   "outputs": [],
   "source": [
    "import matplotlib.pyplot as plt"
   ]
  },
  {
   "cell_type": "code",
   "execution_count": 3,
   "id": "5a6de978",
   "metadata": {},
   "outputs": [],
   "source": [
    "plt.style.use('dark_background')"
   ]
  },
  {
   "cell_type": "markdown",
   "id": "1c6a6a1c",
   "metadata": {
    "heading_collapsed": true
   },
   "source": [
    "# Code"
   ]
  },
  {
   "cell_type": "code",
   "execution_count": 4,
   "id": "5f3a18ab",
   "metadata": {
    "code_folding": [
     0,
     7
    ],
    "hidden": true
   },
   "outputs": [],
   "source": [
    "def read_id(filename, rm_suffix_idx=None):\n",
    "    text = []\n",
    "    with open(filename) as file:\n",
    "        for line in file:\n",
    "            text.append(line[:-1].split('->', maxsplit=1)[0][:rm_suffix_idx])\n",
    "    return text\n",
    "\n",
    "def read_ids(data_dir, rm_suffix_idx=None, meta_tag=\"\"):\n",
    "    trn_id = read_id(f\"{data_dir}/raw_data/train.raw.txt\", rm_suffix_idx)\n",
    "    tst_id = read_id(f\"{data_dir}/raw_data/test.raw.txt\", rm_suffix_idx)\n",
    "    lbl_id = read_id(f\"{data_dir}/raw_data/label.raw.txt\", rm_suffix_idx)\n",
    "    if meta_tag:\n",
    "        meta_id = read_map(f\"{data_dir}/raw_data/{meta_tag}.raw.txt\", rm_suffix_idx)\n",
    "        return trn_id, tst_id, lbl_id, meta_id\n",
    "    return trn_id, tst_id, lbl_id\n"
   ]
  },
  {
   "cell_type": "code",
   "execution_count": 5,
   "id": "cacd229f",
   "metadata": {
    "code_folding": [
     0
    ],
    "hidden": true
   },
   "outputs": [],
   "source": [
    "def read_map(filename):\n",
    "    text = []\n",
    "    with open(filename) as file:\n",
    "        for line in file:\n",
    "            text.append(line[:-1].split('->', maxsplit=1)[1])\n",
    "    return text\n"
   ]
  },
  {
   "cell_type": "code",
   "execution_count": 6,
   "id": "c595ddb8",
   "metadata": {
    "code_folding": [
     0
    ],
    "hidden": true
   },
   "outputs": [],
   "source": [
    "def read_XC_data(data_dir, meta_tag=\"\"):\n",
    "    data_tag = f\"{meta_tag}_\" if meta_tag else meta_tag\n",
    "    trn_xy = du.read_sparse_file(f\"{data_dir}/{data_tag}trn_X_Y.txt\")\n",
    "    tst_xy = du.read_sparse_file(f\"{data_dir}/{data_tag}tst_X_Y.txt\")\n",
    "    \n",
    "    trn_map = read_map(f\"{data_dir}/raw_data/train.raw.txt\")\n",
    "    tst_map = read_map(f\"{data_dir}/raw_data/test.raw.txt\")\n",
    "    lbl_map = read_map(f\"{data_dir}/raw_data/label.raw.txt\")\n",
    "        \n",
    "    if meta_tag:\n",
    "        lbl_xy = du.read_sparse_file(f\"{data_dir}/{data_tag}lbl_X_Y.txt\")\n",
    "        meta_map = read_map(f\"{data_dir}/raw_data/{meta_tag}.raw.txt\")\n",
    "        return (trn_xy, tst_xy, lbl_xy), (trn_map, tst_map, lbl_map, meta_map)\n",
    "    return (trn_xy, tst_xy), (trn_map, tst_map, lbl_map)\n"
   ]
  },
  {
   "cell_type": "code",
   "execution_count": 7,
   "id": "16050b46",
   "metadata": {
    "code_folding": [
     0
    ],
    "hidden": true
   },
   "outputs": [],
   "source": [
    "def read_augmented_maps(data_dir, meta_tag=\"\"):\n",
    "    trn_map = read_map(f\"{data_dir}/raw_data/train_{meta_tag}.raw.txt\")\n",
    "    tst_map = read_map(f\"{data_dir}/raw_data/test_{meta_tag}.raw.txt\")\n",
    "    lbl_map = read_map(f\"{data_dir}/raw_data/label_{meta_tag}.raw.txt\")\n",
    "    return trn_map, tst_map, lbl_map\n"
   ]
  },
  {
   "cell_type": "code",
   "execution_count": 8,
   "id": "462226dd",
   "metadata": {
    "code_folding": [
     0
    ],
    "hidden": true
   },
   "outputs": [],
   "source": [
    "def read_filter_files(data_dir):\n",
    "    filter_trn = np.loadtxt(f\"{data_dir}/filter_labels_train.txt\", dtype=np.int64)\n",
    "    filter_tst = np.loadtxt(f\"{data_dir}/filter_labels_test.txt\", dtype=np.int64)\n",
    "    \n",
    "    return filter_trn, filter_tst\n"
   ]
  },
  {
   "cell_type": "code",
   "execution_count": 9,
   "id": "5c341df4",
   "metadata": {
    "code_folding": [
     0
    ],
    "hidden": true
   },
   "outputs": [],
   "source": [
    "def load_XC_predictions(pred_file):\n",
    "    output = np.load(pred_file)\n",
    "    return csr_matrix((output['data'], output['indices'], output['indptr']), \n",
    "                      dtype=float, shape=output['shape'])\n"
   ]
  },
  {
   "cell_type": "code",
   "execution_count": 10,
   "id": "c2ef7406",
   "metadata": {
    "code_folding": [
     0
    ],
    "hidden": true
   },
   "outputs": [],
   "source": [
    "def read_XC_results(result_dir):\n",
    "    pred_trn = load_XC_predictions(f\"{result_dir}/trn_predictions_clf.npz\")\n",
    "    pred_tst = load_XC_predictions(f\"{result_dir}/tst_predictions_clf.npz\")\n",
    "    return pred_trn, pred_tst\n"
   ]
  },
  {
   "cell_type": "markdown",
   "id": "08f1646f",
   "metadata": {},
   "source": [
    "# Load"
   ]
  },
  {
   "cell_type": "markdown",
   "id": "9239116c",
   "metadata": {
    "heading_collapsed": true
   },
   "source": [
    "## Code"
   ]
  },
  {
   "cell_type": "code",
   "execution_count": 11,
   "id": "4c752359",
   "metadata": {
    "code_folding": [
     0
    ],
    "hidden": true
   },
   "outputs": [],
   "source": [
    "def keep_topk_predictions(pred, topk):\n",
    "    num_preds = pred[0].getnnz()\n",
    "    \n",
    "    data, indices, indptr = [], [], []\n",
    "    data = pred.data.reshape(-1, num_preds)[:, :topk].reshape(-1)\n",
    "    indices = pred.indices.reshape(-1, num_preds)[:, :topk].reshape(-1)\n",
    "    indptr = np.arange(0, topk*(pred.shape[0]+1), topk)\n",
    "    \n",
    "    return csr_matrix((data, indices, indptr), dtype=pred.dtype)\n"
   ]
  },
  {
   "cell_type": "code",
   "execution_count": 12,
   "id": "e6e5c09e",
   "metadata": {
    "code_folding": [
     0,
     4
    ],
    "hidden": true
   },
   "outputs": [],
   "source": [
    "def _pointwise_topk_eval(preds, tst_xy, topk, metric=\"P\", return_mat=False):\n",
    "    top_preds = keep_topk_predictions(preds, topk)\n",
    "    return _pointwise_eval(top_preds, tst_xy, metric=metric, return_mat=return_mat)\n",
    "\n",
    "def _pointwise_eval(preds, tst_xy, metric=\"P\", return_mat=False):\n",
    "    _preds = preds.multiply(tst_xy)\n",
    "    _preds.eliminate_zeros()\n",
    "    \n",
    "    if metric == \"P\":\n",
    "        deno = preds[0].getnnz()\n",
    "    elif metric == \"R\":\n",
    "        deno = tst_xy.sum(axis=1)\n",
    "    \n",
    "    if return_mat:\n",
    "        _preds.data[:] = 1\n",
    "        return _preds/(deno*_preds.shape[0])\n",
    "        \n",
    "    return np.ravel(_preds.getnnz(axis=1)/deno)\n"
   ]
  },
  {
   "cell_type": "code",
   "execution_count": 13,
   "id": "2e1a49b7",
   "metadata": {
    "code_folding": [
     0,
     11
    ],
    "hidden": true
   },
   "outputs": [],
   "source": [
    "def get_eval_diff(pred_1, pred_2, tst_xy, metric=\"P\", return_eval=False):\n",
    "    eval_pred_1 = _pointwise_eval(pred_1, tst_xy, metric)\n",
    "    eval_pred_2 = _pointwise_eval(pred_2, tst_xy, metric)\n",
    "    \n",
    "    eval_diff = eval_pred_1 - eval_pred_2\n",
    "    sorted_eval_idxs = np.argsort(eval_diff)\n",
    "    \n",
    "    if return_eval:\n",
    "        return eval_diff, eval_pred_1, eval_pred_2\n",
    "    return eval_diff\n",
    "\n",
    "def get_topk_eval_diff(pred_1, pred_2, tst_xy, topk=5, metric=\"P\", return_eval=False):\n",
    "    topk_pred_1 = keep_topk_predictions(pred_1, topk=topk)\n",
    "    topk_pred_2 = keep_topk_predictions(pred_2, topk=topk)\n",
    "    \n",
    "    return get_eval_diff(topk_pred_1, topk_pred_2, tst_xy, metric=metric, \n",
    "                         return_eval=return_eval)\n"
   ]
  },
  {
   "cell_type": "code",
   "execution_count": 14,
   "id": "7351c1a9",
   "metadata": {
    "code_folding": [
     0
    ],
    "hidden": true
   },
   "outputs": [],
   "source": [
    "def get_examples(idx, gain, xy_data, xy_pred, aug_pred, xy_map, aug_map):\n",
    "    print(f\"Gain        : {gain[idx]}\\n\")\n",
    "    \n",
    "    print(f\"Datapoint   : {xy_map[0][idx]}\")\n",
    "    print(f\"Prediction  : \")\n",
    "    for label in np.array(xy_map[1])[xy_pred[idx].indices]:\n",
    "        print(f\"->{label}\")\n",
    "    print()\n",
    "    \n",
    "    print(f\"Datapoint   : {aug_map[0][idx]}\")\n",
    "    print(f\"Prediction  : \")\n",
    "    for label in np.array(xy_map[1])[aug_pred[idx].indices]:\n",
    "        print(f\"->{label}\")\n",
    "    print()\n",
    "    \n",
    "    print(f\"Labels      :\")\n",
    "    for label in np.array(xy_map[1])[xy_data[idx].indices]:\n",
    "        print(f\"->{label}\")\n",
    "    print()\n",
    "         "
   ]
  },
  {
   "cell_type": "code",
   "execution_count": 15,
   "id": "3be084e3",
   "metadata": {
    "code_folding": [
     0
    ],
    "hidden": true
   },
   "outputs": [],
   "source": [
    "def set_default(figsize=(10, 10), dpi=100):\n",
    "    plt.style.use(['dark_background', 'bmh'])\n",
    "    plt.rc('axes', facecolor='k')\n",
    "    plt.rc('figure', facecolor='k')\n",
    "    plt.rc('figure', figsize=figsize, dpi=dpi)\n",
    "    "
   ]
  },
  {
   "cell_type": "code",
   "execution_count": 16,
   "id": "34d144c3",
   "metadata": {
    "hidden": true
   },
   "outputs": [],
   "source": [
    "def apply_filter_file(preds, filter_idx):\n",
    "    preds[filter_idx[:, 0], filter_idx[:, 1]] = 0\n",
    "    preds.eliminate_zeros()\n",
    "    "
   ]
  },
  {
   "cell_type": "markdown",
   "id": "cc47f517",
   "metadata": {},
   "source": [
    "## G-LF-WikiSeeAlsoTitles-300K"
   ]
  },
  {
   "cell_type": "code",
   "execution_count": 17,
   "id": "ecb039f1",
   "metadata": {},
   "outputs": [],
   "source": [
    "set_default()"
   ]
  },
  {
   "cell_type": "code",
   "execution_count": 18,
   "id": "8419ac5f",
   "metadata": {},
   "outputs": [],
   "source": [
    "data_dir = \"/home/scai/phd/aiz218323/tmp/XC/data/G-LF-WikiSeeAlsoTitles-300K/\"\n",
    "\n",
    "xy_data, xy_maps = read_XC_data(data_dir)\n",
    "filter_idx = read_filter_files(data_dir)\n",
    "\n",
    "aug_maps = read_augmented_maps(data_dir, meta_tag=\"category\")"
   ]
  },
  {
   "cell_type": "code",
   "execution_count": 19,
   "id": "0ce0b30e",
   "metadata": {},
   "outputs": [],
   "source": [
    "result_dir = \"/home/scai/phd/aiz218323/tmp/XC/results/NGAME/STransformer/\\\n",
    "G-LF-WikiSeeAlsoTitles-300K/v_0_100/\"\n",
    "_, v_0_100_preds = read_XC_results(result_dir)\n",
    "\n",
    "result_dir = \"/home/scai/phd/aiz218323/tmp/XC/results/NGAME/STransformer/\\\n",
    "G-LF-WikiSeeAlsoTitles-300K/v_1_100/\"\n",
    "_, v_1_100_preds = read_XC_results(result_dir)"
   ]
  },
  {
   "cell_type": "markdown",
   "id": "69883123",
   "metadata": {},
   "source": [
    "### Label distribution"
   ]
  },
  {
   "cell_type": "code",
   "execution_count": 52,
   "id": "0f8caaba",
   "metadata": {},
   "outputs": [
    {
     "data": {
      "image/png": "[encoded data removed]",
      "text/plain": [
       "<Figure size 1000x500 with 1 Axes>"
      ]
     },
     "metadata": {},
     "output_type": "display_data"
    }
   ],
   "source": [
    "lbl_freq = xy_data[0].getnnz(axis=0)\n",
    "log_lbl_freq = np.log(lbl_freq)\n",
    "sort_lbl_freq_idx = np.argsort(lbl_freq)\n",
    "\n",
    "plt.figure(figsize=(10, 5))\n",
    "plt.plot(log_lbl_freq[sort_lbl_freq_idx])\n",
    "plt.axhline(y = log_lbl_freq[int(lbl_freq.shape[0]*0.8)], linestyle = '-')\n",
    "plt.xlabel(\"Label ID\")\n",
    "plt.ylabel(r\"$\\log$(label frequency)\")\n",
    "plt.show()"
   ]
  },
  {
   "cell_type": "markdown",
   "id": "757453d8",
   "metadata": {},
   "source": [
    "### Examples"
   ]
  },
  {
   "cell_type": "code",
   "execution_count": 20,
   "id": "ef3d1c89",
   "metadata": {},
   "outputs": [],
   "source": [
    "_topk = 5\n",
    "topk_pred_v_1_100 = keep_topk_predictions(v_1_100_preds, topk=_topk)\n",
    "topk_pred_v_0_100 = keep_topk_predictions(v_0_100_preds, topk=_topk)\n",
    "\n",
    "eval_diff = get_eval_diff(topk_pred_v_1_100, topk_pred_v_0_100, xy_data[1], metric=\"P\")"
   ]
  },
  {
   "cell_type": "code",
   "execution_count": 56,
   "id": "2b9204c8",
   "metadata": {},
   "outputs": [
    {
     "name": "stdout",
     "output_type": "stream",
     "text": [
      "Gain        : 1.0\n",
      "\n",
      "Datapoint   : cottonwood Limestone\n",
      "Prediction  : \n",
      "->paleontology in Idaho\n",
      "->paleontology in Arizona\n",
      "->paleontology in Missouri\n",
      "->list of fossiliferous stratigraphic units in Idaho\n",
      "->danata Formation\n",
      "\n",
      "Datapoint   : cottonwood Limestone,building stone,permian Kansas,cisuralian Series of North America,geologic formations of Nebraska,geologic formations of Oklahoma\n",
      "Prediction  : \n",
      "->list of fossiliferous stratigraphic units in Nebraska\n",
      "->paleontology in Nebraska\n",
      "->list of fossiliferous stratigraphic units in Kansas\n",
      "->paleontology in Kansas\n",
      "->list of fossiliferous stratigraphic units in Oklahoma\n",
      "\n",
      "Labels      :\n",
      "->paleontology in Nebraska\n",
      "->paleontology in Kansas\n",
      "->paleontology in Oklahoma\n",
      "->list of fossiliferous stratigraphic units in Nebraska\n",
      "->list of fossiliferous stratigraphic units in Kansas\n",
      "->list of fossiliferous stratigraphic units in Oklahoma\n",
      "\n"
     ]
    }
   ],
   "source": [
    "get_examples(eval_sort_idxs[-1], eval_diff, xy_data[1], topk_pred_v_0_100, \n",
    "             topk_pred_v_1_100, xy_maps[1:], aug_maps[1:])"
   ]
  },
  {
   "cell_type": "markdown",
   "id": "c9a63fd6",
   "metadata": {},
   "source": [
    "### Gains"
   ]
  },
  {
   "cell_type": "code",
   "execution_count": 375,
   "id": "74b37ad3",
   "metadata": {},
   "outputs": [
    {
     "data": {
      "text/plain": [
       "(84821, 16456)"
      ]
     },
     "execution_count": 375,
     "metadata": {},
     "output_type": "execute_result"
    }
   ],
   "source": [
    "np.sum(eval_diff > 0), np.sum(eval_diff < 0)"
   ]
  },
  {
   "cell_type": "code",
   "execution_count": 380,
   "id": "d0e47ec4",
   "metadata": {},
   "outputs": [
    {
     "data": {
      "text/plain": [
       "array(['pavel Shurukhin', 'from Q with Love', 'rabie Chaki', ...,\n",
       "       'maryland, My Maryland', 'nutter Fork',\n",
       "       'black Catholic Theological Symposium'], dtype='<U134')"
      ]
     },
     "execution_count": 380,
     "metadata": {},
     "output_type": "execute_result"
    }
   ],
   "source": [
    "np.array(xy_maps[1])[np.where(eval_diff > 0)[0]]"
   ]
  },
  {
   "cell_type": "code",
   "execution_count": 373,
   "id": "c75720e9",
   "metadata": {},
   "outputs": [
    {
     "data": {
      "text/plain": [
       "[<matplotlib.lines.Line2D at 0x2aff6c54abe0>]"
      ]
     },
     "execution_count": 373,
     "metadata": {},
     "output_type": "execute_result"
    },
    {
     "data": {
      "image/png": "[encoded data removed]",
      "text/plain": [
       "<Figure size 1000x500 with 1 Axes>"
      ]
     },
     "metadata": {},
     "output_type": "display_data"
    }
   ],
   "source": [
    "plt.figure(figsize=(10, 5))\n",
    "plt.plot(eval_diff[eval_sort_idxs])"
   ]
  },
  {
   "cell_type": "markdown",
   "id": "9a5a2014",
   "metadata": {},
   "source": [
    "### Label-wise gains"
   ]
  },
  {
   "cell_type": "code",
   "execution_count": 306,
   "id": "7a7d5a03",
   "metadata": {
    "code_folding": [
     0
    ]
   },
   "outputs": [],
   "source": [
    "def _freq_label_partition(xy_data, num_groups=10):\n",
    "    lbl_freq = xy_data.getnnz(axis=0)\n",
    "    sorted_lbl_freq_idx = np.argsort(lbl_freq)\n",
    "    \n",
    "    num_lbl_per_group = len(lbl_freq)//num_groups\n",
    "    \n",
    "    idxs = []\n",
    "    for i in range(0, num_groups):\n",
    "        k = i*num_lbl_per_group\n",
    "        idxs.append(sorted_lbl_freq_idx[k:k+num_lbl_per_group].tolist())\n",
    "        \n",
    "    return idxs\n"
   ]
  },
  {
   "cell_type": "code",
   "execution_count": 309,
   "id": "ceb91903",
   "metadata": {
    "code_folding": [
     0
    ]
   },
   "outputs": [],
   "source": [
    "def _label_eval(preds, xy_data, topk, num_groups=10, metric=\"P\"):\n",
    "    eval_mat = _pointwise_topk_eval(preds, xy_data, topk, metric=metric, \n",
    "                                    return_mat=True)\n",
    "    lbl_partition_idx = _freq_label_partition(xy_data, num_groups=num_groups)\n",
    "    \n",
    "    lbl_partition_eval = list()\n",
    "    for idx in lbl_partition_idx:\n",
    "        lbl_partition_eval.append(eval_mat[:, idx].sum())\n",
    "        \n",
    "    return lbl_partition_eval\n"
   ]
  },
  {
   "cell_type": "code",
   "execution_count": 339,
   "id": "f2f2a1bc",
   "metadata": {
    "code_folding": [
     0
    ]
   },
   "outputs": [],
   "source": [
    "def _plot_multiple_bar_plot(comparison_list, labels, xlabel, ylabel, bar_width=0.25):\n",
    "    fig = plt.figure(figsize=(12, 8))\n",
    "    \n",
    "    for i, y_val in enumerate(comparison_list):\n",
    "        x_val = [x + i*bar_width for x in range(len(y_val))]\n",
    "        plt.bar(x_val, y_val, width=bar_width, edgecolor=\"grey\", label=labels[i])\n",
    "        \n",
    "    plt.xlabel(xlabel, fontsize = 15)\n",
    "    plt.ylabel(ylabel, fontsize = 15)\n",
    "    \n",
    "    _decile_val = np.linspace(0, 100, len(y_val)+1)\n",
    "    x_labels = [f\"${_decile_val[i]:.0f}-{_decile_val[i+1]:.0f}\\%$\" for i in range(len(_decile_val)-1)]\n",
    "    \n",
    "    plt.xticks([x + (i/2)*bar_width for x in range(len(y_val))], x_labels)\n",
    "    plt.legend()\n",
    "        \n",
    "    plt.show()\n"
   ]
  },
  {
   "cell_type": "code",
   "execution_count": 353,
   "id": "9046cf3a",
   "metadata": {},
   "outputs": [],
   "source": [
    "v_1_100_lbl_eval = _label_eval(v_1_100_preds, xy_data[1], topk=5, \n",
    "                               num_groups=5, metric=\"P\")\n",
    "\n",
    "v_0_100_lbl_eval = _label_eval(v_0_100_preds, xy_data[1], topk=5, \n",
    "                               num_groups=5, metric=\"P\")"
   ]
  },
  {
   "cell_type": "code",
   "execution_count": 354,
   "id": "e7d4c92d",
   "metadata": {},
   "outputs": [
    {
     "data": {
      "image/png": "[encoded data removed]",
      "text/plain": [
       "<Figure size 1200x800 with 1 Axes>"
      ]
     },
     "metadata": {},
     "output_type": "display_data"
    }
   ],
   "source": [
    "_plot_multiple_bar_plot([v_1_100_lbl_eval, v_0_100_lbl_eval], \n",
    "                        [\"v_1_100\", \"v_0_100\"], \"Label decile\", \"P@5\")"
   ]
  },
  {
   "cell_type": "code",
   "execution_count": 355,
   "id": "882d12e0",
   "metadata": {},
   "outputs": [
    {
     "data": {
      "text/plain": [
       "array([0.49261758, 0.47223966, 0.45198385, 0.38040026, 0.53215051])"
      ]
     },
     "execution_count": 355,
     "metadata": {},
     "output_type": "execute_result"
    }
   ],
   "source": [
    "(np.array(v_1_100_lbl_eval) - np.array(v_0_100_lbl_eval))/np.array(v_0_100_lbl_eval)"
   ]
  },
  {
   "cell_type": "code",
   "execution_count": 356,
   "id": "2fc57fee",
   "metadata": {},
   "outputs": [
    {
     "data": {
      "text/plain": [
       "[0.007860664778426408,\n",
       " 0.008569331340048501,\n",
       " 0.008756105715833934,\n",
       " 0.020086315894653095,\n",
       " 0.09647626697206454]"
      ]
     },
     "execution_count": 356,
     "metadata": {},
     "output_type": "execute_result"
    }
   ],
   "source": [
    "v_0_100_lbl_eval"
   ]
  },
  {
   "cell_type": "code",
   "execution_count": 357,
   "id": "265bf188",
   "metadata": {},
   "outputs": [
    {
     "data": {
      "text/plain": [
       "[0.011732966445944959,\n",
       " 0.0126161094820662,\n",
       " 0.012713724073526077,\n",
       " 0.027727155687587195,\n",
       " 0.14781616174814668]"
      ]
     },
     "execution_count": 357,
     "metadata": {},
     "output_type": "execute_result"
    }
   ],
   "source": [
    "v_1_100_lbl_eval"
   ]
  },
  {
   "cell_type": "code",
   "execution_count": null,
   "id": "03f54757",
   "metadata": {},
   "outputs": [],
   "source": []
  }
 ],
 "metadata": {
  "kernelspec": {
   "display_name": "Python 3 (ipykernel)",
   "language": "python",
   "name": "python3"
  },
  "language_info": {
   "codemirror_mode": {
    "name": "ipython",
    "version": 3
   },
   "file_extension": ".py",
   "mimetype": "text/x-python",
   "name": "python",
   "nbconvert_exporter": "python",
   "pygments_lexer": "ipython3",
   "version": "3.7.1"
  },
  "toc": {
   "base_numbering": 1,
   "nav_menu": {},
   "number_sections": true,
   "sideBar": true,
   "skip_h1_title": false,
   "title_cell": "Table of Contents",
   "title_sidebar": "Contents",
   "toc_cell": false,
   "toc_position": {},
   "toc_section_display": true,
   "toc_window_display": false
  }
 },
 "nbformat": 4,
 "nbformat_minor": 5
}
